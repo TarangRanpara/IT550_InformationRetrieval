{
  "nbformat": 4,
  "nbformat_minor": 0,
  "metadata": {
    "colab": {
      "name": "202011057 IR_Assignment9.ipynb",
      "provenance": [],
      "collapsed_sections": []
    },
    "kernelspec": {
      "name": "python3",
      "display_name": "Python 3"
    },
    "language_info": {
      "name": "python"
    }
  },
  "cells": [
    {
      "cell_type": "markdown",
      "metadata": {
        "id": "8W8kjaoEQKGJ"
      },
      "source": [
        "# submitted by Tarang Ranpara (202011057)"
      ]
    },
    {
      "cell_type": "code",
      "metadata": {
        "colab": {
          "base_uri": "https://localhost:8080/"
        },
        "id": "RtJg9mdAs8is",
        "outputId": "513fa12b-f91a-49f8-f743-5f1eba9a1a2b"
      },
      "source": [
        "! pip install surprise"
      ],
      "execution_count": null,
      "outputs": [
        {
          "output_type": "stream",
          "text": [
            "Collecting surprise\n",
            "  Downloading https://files.pythonhosted.org/packages/61/de/e5cba8682201fcf9c3719a6fdda95693468ed061945493dea2dd37c5618b/surprise-0.1-py2.py3-none-any.whl\n",
            "Collecting scikit-surprise\n",
            "\u001b[?25l  Downloading https://files.pythonhosted.org/packages/97/37/5d334adaf5ddd65da99fc65f6507e0e4599d092ba048f4302fe8775619e8/scikit-surprise-1.1.1.tar.gz (11.8MB)\n",
            "\u001b[K     |████████████████████████████████| 11.8MB 16.6MB/s \n",
            "\u001b[?25hRequirement already satisfied: joblib>=0.11 in /usr/local/lib/python3.7/dist-packages (from scikit-surprise->surprise) (1.0.1)\n",
            "Requirement already satisfied: numpy>=1.11.2 in /usr/local/lib/python3.7/dist-packages (from scikit-surprise->surprise) (1.19.5)\n",
            "Requirement already satisfied: scipy>=1.0.0 in /usr/local/lib/python3.7/dist-packages (from scikit-surprise->surprise) (1.4.1)\n",
            "Requirement already satisfied: six>=1.10.0 in /usr/local/lib/python3.7/dist-packages (from scikit-surprise->surprise) (1.15.0)\n",
            "Building wheels for collected packages: scikit-surprise\n",
            "  Building wheel for scikit-surprise (setup.py) ... \u001b[?25l\u001b[?25hdone\n",
            "  Created wheel for scikit-surprise: filename=scikit_surprise-1.1.1-cp37-cp37m-linux_x86_64.whl size=1617566 sha256=534b62006be7262f68ee39c165d870e05eabb25c97300c923dcb8d467b70ef03\n",
            "  Stored in directory: /root/.cache/pip/wheels/78/9c/3d/41b419c9d2aff5b6e2b4c0fc8d25c538202834058f9ed110d0\n",
            "Successfully built scikit-surprise\n",
            "Installing collected packages: scikit-surprise, surprise\n",
            "Successfully installed scikit-surprise-1.1.1 surprise-0.1\n"
          ],
          "name": "stdout"
        }
      ]
    },
    {
      "cell_type": "code",
      "metadata": {
        "id": "SoI6lIicsthp"
      },
      "source": [
        "# importing essential libs\n",
        "from surprise import Dataset\n",
        "from surprise import KNNBaseline\n",
        "from surprise import accuracy\n",
        "from surprise.model_selection import train_test_split\n",
        "from surprise.model_selection import cross_validate"
      ],
      "execution_count": null,
      "outputs": []
    },
    {
      "cell_type": "code",
      "metadata": {
        "colab": {
          "base_uri": "https://localhost:8080/"
        },
        "id": "97EEKyLgs0Si",
        "outputId": "a28c9c06-cc63-4d64-bd87-d5e48e4f643e"
      },
      "source": [
        "# loading the data\n",
        "data = Dataset.load_builtin(name='ml-100k')"
      ],
      "execution_count": null,
      "outputs": [
        {
          "output_type": "stream",
          "text": [
            "Dataset ml-100k could not be found. Do you want to download it? [Y/n] Y\n",
            "Trying to download dataset from http://files.grouplens.org/datasets/movielens/ml-100k.zip...\n",
            "Done! Dataset ml-100k has been saved to /root/.surprise_data/ml-100k\n"
          ],
          "name": "stdout"
        }
      ]
    },
    {
      "cell_type": "code",
      "metadata": {
        "id": "dzsmh92ntNIa"
      },
      "source": [
        "# splitting dataset\n",
        "trainset, testset = train_test_split(data, test_size=0.2)"
      ],
      "execution_count": null,
      "outputs": []
    },
    {
      "cell_type": "markdown",
      "metadata": {
        "id": "uMcXSBW-tZ_J"
      },
      "source": [
        "## User-based collaborative Filtering\n",
        "- basic KNN algorithm with top 30 neighbours/users for prediction\n",
        "- similarity measure : cosine similarity\n",
        "- Stochastic Gradient Descent(SGD) for baseline estimation\n",
        "- Cross-validating the approach on the training set\n",
        "- using RMSE on the testing set for accuracy "
      ]
    },
    {
      "cell_type": "code",
      "metadata": {
        "id": "jCLlmG0xtTjV"
      },
      "source": [
        "sim_options = {\"name\": \"cosine\", \"user-based\": True}\n",
        "algo_ub = KNNBaseline(k=40, sim_options=sim_options)"
      ],
      "execution_count": null,
      "outputs": []
    },
    {
      "cell_type": "code",
      "metadata": {
        "colab": {
          "base_uri": "https://localhost:8080/"
        },
        "id": "CytyAGrJttGn",
        "outputId": "29fdfcde-ee53-4000-b927-e3c4df7c1577"
      },
      "source": [
        "# Run 5-fold cross-validation\n",
        "cross_validate(algo_ub, data, measures=['RMSE'], cv=5, verbose=True)"
      ],
      "execution_count": null,
      "outputs": [
        {
          "output_type": "stream",
          "text": [
            "Estimating biases using als...\n",
            "Computing the cosine similarity matrix...\n",
            "Done computing similarity matrix.\n",
            "Estimating biases using als...\n",
            "Computing the cosine similarity matrix...\n",
            "Done computing similarity matrix.\n",
            "Estimating biases using als...\n",
            "Computing the cosine similarity matrix...\n",
            "Done computing similarity matrix.\n",
            "Estimating biases using als...\n",
            "Computing the cosine similarity matrix...\n",
            "Done computing similarity matrix.\n",
            "Estimating biases using als...\n",
            "Computing the cosine similarity matrix...\n",
            "Done computing similarity matrix.\n",
            "Evaluating RMSE of algorithm KNNBaseline on 5 split(s).\n",
            "\n",
            "                  Fold 1  Fold 2  Fold 3  Fold 4  Fold 5  Mean    Std     \n",
            "RMSE (testset)    0.9293  0.9358  0.9324  0.9417  0.9310  0.9340  0.0044  \n",
            "Fit time          1.45    1.44    1.46    1.47    1.46    1.46    0.01    \n",
            "Test time         4.55    4.52    4.52    4.60    4.45    4.53    0.05    \n"
          ],
          "name": "stdout"
        },
        {
          "output_type": "execute_result",
          "data": {
            "text/plain": [
              "{'fit_time': (1.4478976726531982,\n",
              "  1.4417569637298584,\n",
              "  1.4565179347991943,\n",
              "  1.474522590637207,\n",
              "  1.4629449844360352),\n",
              " 'test_rmse': array([0.92931013, 0.93575334, 0.93238   , 0.9416522 , 0.9310349 ]),\n",
              " 'test_time': (4.553791284561157,\n",
              "  4.518980264663696,\n",
              "  4.515852212905884,\n",
              "  4.595580339431763,\n",
              "  4.453830718994141)}"
            ]
          },
          "metadata": {
            "tags": []
          },
          "execution_count": 7
        }
      ]
    },
    {
      "cell_type": "code",
      "metadata": {
        "colab": {
          "base_uri": "https://localhost:8080/"
        },
        "id": "QY4hYk_et3GB",
        "outputId": "520e2eec-7a28-4201-9c1d-2fbcad733dc0"
      },
      "source": [
        "# Train the algorithm on the trainset, and predict ratings for the testset\n",
        "preds_ub = algo_ub.fit(trainset).test(testset)\n",
        "\n",
        "# RMSE to check accuracy\n",
        "accuracy.rmse(preds_ub)"
      ],
      "execution_count": null,
      "outputs": [
        {
          "output_type": "stream",
          "text": [
            "Estimating biases using als...\n",
            "Computing the cosine similarity matrix...\n",
            "Done computing similarity matrix.\n",
            "RMSE: 0.9258\n"
          ],
          "name": "stdout"
        },
        {
          "output_type": "execute_result",
          "data": {
            "text/plain": [
              "0.9257665505762505"
            ]
          },
          "metadata": {
            "tags": []
          },
          "execution_count": 8
        }
      ]
    },
    {
      "cell_type": "markdown",
      "metadata": {
        "id": "mFTqTDLyPjpz"
      },
      "source": [
        "## Results\n",
        "**User-based collaborative filtering**:\n",
        "\n",
        "    - Trainset 5-fold Cross validation RMSE = 0.9340 ± 0.0044\n",
        "    - Testset RMSE = 0.9258"
      ]
    },
    {
      "cell_type": "markdown",
      "metadata": {
        "id": "xITlW5yCuNFE"
      },
      "source": [
        "## Item-based collaborative Filtering\n",
        "- KNN algorithm with top 30 neighbours/items for prediction\n",
        "- similarity measure : cosine similarity\n",
        "- Stochastic Gradient Descent(SGD) for baseline estimation\n",
        "- Cross-validating the approach on the training set\n",
        "- using RMSE on the testing set for accuracy"
      ]
    },
    {
      "cell_type": "code",
      "metadata": {
        "id": "KFEsP77euXFe"
      },
      "source": [
        "sim_options = {\"name\": \"cosine\", \"user-based\": False}\n",
        "algo_ib = KNNBaseline(k=40, sim_options=sim_options)"
      ],
      "execution_count": null,
      "outputs": []
    },
    {
      "cell_type": "code",
      "metadata": {
        "colab": {
          "base_uri": "https://localhost:8080/"
        },
        "id": "XBErupJ0uaTr",
        "outputId": "b17197e2-3d50-4e74-bdec-62f14d8c3f45"
      },
      "source": [
        "# Run 5-fold cross-validation\n",
        "cross_validate(algo_ib, data, measures=['RMSE'], cv=5, verbose=True)"
      ],
      "execution_count": null,
      "outputs": [
        {
          "output_type": "stream",
          "text": [
            "Estimating biases using als...\n",
            "Computing the cosine similarity matrix...\n",
            "Done computing similarity matrix.\n",
            "Estimating biases using als...\n",
            "Computing the cosine similarity matrix...\n",
            "Done computing similarity matrix.\n",
            "Estimating biases using als...\n",
            "Computing the cosine similarity matrix...\n",
            "Done computing similarity matrix.\n",
            "Estimating biases using als...\n",
            "Computing the cosine similarity matrix...\n",
            "Done computing similarity matrix.\n",
            "Estimating biases using als...\n",
            "Computing the cosine similarity matrix...\n",
            "Done computing similarity matrix.\n",
            "Evaluating RMSE of algorithm KNNBaseline on 5 split(s).\n",
            "\n",
            "                  Fold 1  Fold 2  Fold 3  Fold 4  Fold 5  Mean    Std     \n",
            "RMSE (testset)    0.9286  0.9388  0.9315  0.9441  0.9240  0.9334  0.0072  \n",
            "Fit time          1.47    1.56    1.56    1.55    1.52    1.53    0.03    \n",
            "Test time         4.62    4.75    4.66    4.79    4.58    4.68    0.08    \n"
          ],
          "name": "stdout"
        },
        {
          "output_type": "execute_result",
          "data": {
            "text/plain": [
              "{'fit_time': (1.4673869609832764,\n",
              "  1.5580594539642334,\n",
              "  1.5581674575805664,\n",
              "  1.5476727485656738,\n",
              "  1.5209035873413086),\n",
              " 'test_rmse': array([0.92858902, 0.93878331, 0.9315013 , 0.94413781, 0.92396077]),\n",
              " 'test_time': (4.6206138134002686,\n",
              "  4.753770589828491,\n",
              "  4.662949085235596,\n",
              "  4.79037618637085,\n",
              "  4.583998203277588)}"
            ]
          },
          "metadata": {
            "tags": []
          },
          "execution_count": 10
        }
      ]
    },
    {
      "cell_type": "code",
      "metadata": {
        "colab": {
          "base_uri": "https://localhost:8080/"
        },
        "id": "WdCe09bnucyb",
        "outputId": "11554a22-7f29-44cf-c660-f0d2af129392"
      },
      "source": [
        "# Train the algorithm on the trainset, and predict ratings for the testset\n",
        "preds_ib = algo_ib.fit(trainset).test(testset)\n",
        "\n",
        "# RMSE to check accuracy\n",
        "accuracy.rmse(preds_ib)"
      ],
      "execution_count": null,
      "outputs": [
        {
          "output_type": "stream",
          "text": [
            "Estimating biases using als...\n",
            "Computing the cosine similarity matrix...\n",
            "Done computing similarity matrix.\n",
            "RMSE: 0.9258\n"
          ],
          "name": "stdout"
        },
        {
          "output_type": "execute_result",
          "data": {
            "text/plain": [
              "0.9257665505762505"
            ]
          },
          "metadata": {
            "tags": []
          },
          "execution_count": 11
        }
      ]
    },
    {
      "cell_type": "markdown",
      "metadata": {
        "id": "3ZuexQGZu4rg"
      },
      "source": [
        "## Results\n",
        "**Item-based collaborative filtering**:\n",
        "\n",
        "    - Trainset 5-fold Cross validation RMSE = 0.9334 ± 0.0072\n",
        "    - Testset RMSE = 0.9343"
      ]
    }
  ]
}