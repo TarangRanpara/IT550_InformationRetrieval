{
  "nbformat": 4,
  "nbformat_minor": 0,
  "metadata": {
    "colab": {
      "name": "IR_A8_202011057.ipynb",
      "provenance": [],
      "collapsed_sections": []
    },
    "kernelspec": {
      "name": "python3",
      "display_name": "Python 3"
    },
    "language_info": {
      "name": "python"
    }
  },
  "cells": [
    {
      "cell_type": "markdown",
      "metadata": {
        "id": "niNj9CNhBDn2"
      },
      "source": [
        "submitted by Tarang Ranpara 202011057"
      ]
    },
    {
      "cell_type": "code",
      "metadata": {
        "colab": {
          "base_uri": "https://localhost:8080/"
        },
        "id": "kHKXHDGv1Ap9",
        "outputId": "28cb7f0e-f945-4c97-fb56-a88f276cf884"
      },
      "source": [
        "import os\n",
        "import re\n",
        "import nltk\n",
        "import pickle\n",
        "import warnings\n",
        "import numpy as np\n",
        "import pandas as pd\n",
        "from sklearn import model_selection\n",
        "from sklearn.naive_bayes import MultinomialNB\n",
        "from mlxtend.classifier import StackingClassifier\n",
        "from mlxtend.classifier import EnsembleVoteClassifier as VotingClassifier\n",
        "from sklearn.ensemble import RandomForestClassifier\n",
        "from sklearn.linear_model import LogisticRegression\n",
        "from sklearn.feature_extraction.text import TfidfVectorizer\n",
        "\n",
        "warnings.filterwarnings('ignore')\n",
        "\n",
        "# downloading essentials\n",
        "nltk.download('stopwords')\n",
        "nltk.download('wordnet')\n",
        "nltk.download('punkt')\n",
        "nltk.download('averaged_perceptron_tagger')"
      ],
      "execution_count": null,
      "outputs": [
        {
          "output_type": "stream",
          "text": [
            "[nltk_data] Downloading package stopwords to /root/nltk_data...\n",
            "[nltk_data]   Package stopwords is already up-to-date!\n",
            "[nltk_data] Downloading package wordnet to /root/nltk_data...\n",
            "[nltk_data]   Package wordnet is already up-to-date!\n",
            "[nltk_data] Downloading package punkt to /root/nltk_data...\n",
            "[nltk_data]   Package punkt is already up-to-date!\n",
            "[nltk_data] Downloading package averaged_perceptron_tagger to\n",
            "[nltk_data]     /root/nltk_data...\n",
            "[nltk_data]   Package averaged_perceptron_tagger is already up-to-\n",
            "[nltk_data]       date!\n"
          ],
          "name": "stdout"
        },
        {
          "output_type": "stream",
          "text": [
            "/usr/local/lib/python3.7/dist-packages/sklearn/externals/six.py:31: FutureWarning: The module is deprecated in version 0.21 and will be removed in version 0.23 since we've dropped support for Python 2.7. Please rely on the official version of six (https://pypi.org/project/six/).\n",
            "  \"(https://pypi.org/project/six/).\", FutureWarning)\n"
          ],
          "name": "stderr"
        },
        {
          "output_type": "execute_result",
          "data": {
            "text/plain": [
              "True"
            ]
          },
          "metadata": {
            "tags": []
          },
          "execution_count": 1
        }
      ]
    },
    {
      "cell_type": "code",
      "metadata": {
        "colab": {
          "base_uri": "https://localhost:8080/"
        },
        "id": "QKil5WB33AYs",
        "outputId": "3f346932-ae34-4949-f7ce-2bb629836354"
      },
      "source": [
        "from google.colab import drive\n",
        "drive.mount('/content/drive')"
      ],
      "execution_count": null,
      "outputs": [
        {
          "output_type": "stream",
          "text": [
            "Mounted at /content/drive\n"
          ],
          "name": "stdout"
        }
      ]
    },
    {
      "cell_type": "code",
      "metadata": {
        "id": "WmiQMhgJ3B_Y"
      },
      "source": [
        "dir = './drive/MyDrive/IRLAB/A8/'\n",
        "train = pd.read_csv(os.path.join(dir, 'train.csv'))"
      ],
      "execution_count": null,
      "outputs": []
    },
    {
      "cell_type": "code",
      "metadata": {
        "colab": {
          "base_uri": "https://localhost:8080/",
          "height": 221
        },
        "id": "xsAID_d44YmY",
        "outputId": "090ef578-7389-437b-91aa-c4c3a4486667"
      },
      "source": [
        "train.head()"
      ],
      "execution_count": null,
      "outputs": [
        {
          "output_type": "execute_result",
          "data": {
            "text/html": [
              "<div>\n",
              "<style scoped>\n",
              "    .dataframe tbody tr th:only-of-type {\n",
              "        vertical-align: middle;\n",
              "    }\n",
              "\n",
              "    .dataframe tbody tr th {\n",
              "        vertical-align: top;\n",
              "    }\n",
              "\n",
              "    .dataframe thead th {\n",
              "        text-align: right;\n",
              "    }\n",
              "</style>\n",
              "<table border=\"1\" class=\"dataframe\">\n",
              "  <thead>\n",
              "    <tr style=\"text-align: right;\">\n",
              "      <th></th>\n",
              "      <th>id</th>\n",
              "      <th>title</th>\n",
              "      <th>author</th>\n",
              "      <th>text</th>\n",
              "      <th>label</th>\n",
              "    </tr>\n",
              "  </thead>\n",
              "  <tbody>\n",
              "    <tr>\n",
              "      <th>0</th>\n",
              "      <td>0</td>\n",
              "      <td>House Dem Aide: We Didn’t Even See Comey’s Let...</td>\n",
              "      <td>Darrell Lucus</td>\n",
              "      <td>House Dem Aide: We Didn’t Even See Comey’s Let...</td>\n",
              "      <td>1</td>\n",
              "    </tr>\n",
              "    <tr>\n",
              "      <th>1</th>\n",
              "      <td>1</td>\n",
              "      <td>FLYNN: Hillary Clinton, Big Woman on Campus - ...</td>\n",
              "      <td>Daniel J. Flynn</td>\n",
              "      <td>Ever get the feeling your life circles the rou...</td>\n",
              "      <td>0</td>\n",
              "    </tr>\n",
              "    <tr>\n",
              "      <th>2</th>\n",
              "      <td>2</td>\n",
              "      <td>Why the Truth Might Get You Fired</td>\n",
              "      <td>Consortiumnews.com</td>\n",
              "      <td>Why the Truth Might Get You Fired October 29, ...</td>\n",
              "      <td>1</td>\n",
              "    </tr>\n",
              "    <tr>\n",
              "      <th>3</th>\n",
              "      <td>3</td>\n",
              "      <td>15 Civilians Killed In Single US Airstrike Hav...</td>\n",
              "      <td>Jessica Purkiss</td>\n",
              "      <td>Videos 15 Civilians Killed In Single US Airstr...</td>\n",
              "      <td>1</td>\n",
              "    </tr>\n",
              "    <tr>\n",
              "      <th>4</th>\n",
              "      <td>4</td>\n",
              "      <td>Iranian woman jailed for fictional unpublished...</td>\n",
              "      <td>Howard Portnoy</td>\n",
              "      <td>Print \\nAn Iranian woman has been sentenced to...</td>\n",
              "      <td>1</td>\n",
              "    </tr>\n",
              "  </tbody>\n",
              "</table>\n",
              "</div>"
            ],
            "text/plain": [
              "   id  ... label\n",
              "0   0  ...     1\n",
              "1   1  ...     0\n",
              "2   2  ...     1\n",
              "3   3  ...     1\n",
              "4   4  ...     1\n",
              "\n",
              "[5 rows x 5 columns]"
            ]
          },
          "metadata": {
            "tags": []
          },
          "execution_count": 3
        }
      ]
    },
    {
      "cell_type": "markdown",
      "metadata": {
        "id": "QGUi008tAz4Y"
      },
      "source": [
        "classification on text column"
      ]
    },
    {
      "cell_type": "code",
      "metadata": {
        "id": "UqMt-TU94bqn"
      },
      "source": [
        "vectorizer = TfidfVectorizer(lowercase=True, stop_words='english', tokenizer = nltk.tokenize.word_tokenize)\n",
        "corpus_tf_idf = vectorizer.fit_transform(train['text'].apply(str))"
      ],
      "execution_count": null,
      "outputs": []
    },
    {
      "cell_type": "code",
      "metadata": {
        "colab": {
          "base_uri": "https://localhost:8080/"
        },
        "id": "sFwD2Bla7bwN",
        "outputId": "db012498-f8a1-4a8b-96aa-c2fb390426ef"
      },
      "source": [
        "corpus_tf_idf"
      ],
      "execution_count": null,
      "outputs": [
        {
          "output_type": "execute_result",
          "data": {
            "text/plain": [
              "<20800x221834 sparse matrix of type '<class 'numpy.float64'>'\n",
              "\twith 5639307 stored elements in Compressed Sparse Row format>"
            ]
          },
          "metadata": {
            "tags": []
          },
          "execution_count": 5
        }
      ]
    },
    {
      "cell_type": "code",
      "metadata": {
        "id": "wEO63nP978fY"
      },
      "source": [
        "clf1 = MultinomialNB()\n",
        "clf2 = RandomForestClassifier()\n",
        "clf3 = LogisticRegression()\n",
        "lr = LogisticRegression()\n",
        "sclf = StackingClassifier(classifiers=[clf1, clf2, clf3], \n",
        "                          use_probas=True,\n",
        "                          meta_classifier=lr)\n",
        "vclf = VotingClassifier(clfs=[clf1, clf2, clf3], weights=[1,1,1])"
      ],
      "execution_count": null,
      "outputs": []
    },
    {
      "cell_type": "code",
      "metadata": {
        "colab": {
          "base_uri": "https://localhost:8080/"
        },
        "id": "k93srBj28WQ8",
        "outputId": "0c240795-8299-4397-a78f-0f0ca438db54"
      },
      "source": [
        "print('5-fold cross validation:\\n')\n",
        "\n",
        "for clf, label in zip([clf1, clf2, clf3, sclf, vclf], \n",
        "                      ['Multinomial NB', \n",
        "                       'Random Forests', \n",
        "                       'logistic Regression',\n",
        "                       'StackingClassifier', \n",
        "                       'voting classifier']):\n",
        "  \n",
        "    scores = model_selection.cross_val_score(clf, corpus_tf_idf, train['label'].values, cv=5, scoring=\"accuracy\")\n",
        "    print(\"Accuracy: %0.2f (+/- %0.2f) [%s]\" \n",
        "          % (scores.mean(), scores.std(), label))"
      ],
      "execution_count": null,
      "outputs": [
        {
          "output_type": "stream",
          "text": [
            "5-fold cross validation:\n",
            "\n",
            "Accuracy: 0.88 (+/- 0.00) [Multinomial NB]\n",
            "Accuracy: 0.96 (+/- 0.00) [Random Forests]\n",
            "Accuracy: 0.97 (+/- 0.00) [logistic Regression]\n",
            "Accuracy: 0.97 (+/- 0.00) [StackingClassifier]\n",
            "Accuracy: 0.97 (+/- 0.00) [voting classifier]\n"
          ],
          "name": "stdout"
        }
      ]
    },
    {
      "cell_type": "markdown",
      "metadata": {
        "id": "olT5hL2CA9SU"
      },
      "source": [
        "classification on title column"
      ]
    },
    {
      "cell_type": "code",
      "metadata": {
        "id": "01WU3awzGG4U"
      },
      "source": [
        "vectorizer = TfidfVectorizer(lowercase=True, stop_words='english', tokenizer = nltk.tokenize.word_tokenize)\n",
        "corpus_tf_idf = vectorizer.fit_transform(train['title'].apply(str))"
      ],
      "execution_count": null,
      "outputs": []
    },
    {
      "cell_type": "code",
      "metadata": {
        "colab": {
          "base_uri": "https://localhost:8080/"
        },
        "id": "zsRcyhxrGitG",
        "outputId": "b7b001bd-bc35-418a-a718-5e117bec54d6"
      },
      "source": [
        "corpus_tf_idf"
      ],
      "execution_count": null,
      "outputs": [
        {
          "output_type": "execute_result",
          "data": {
            "text/plain": [
              "<20800x24613 sparse matrix of type '<class 'numpy.float64'>'\n",
              "\twith 208884 stored elements in Compressed Sparse Row format>"
            ]
          },
          "metadata": {
            "tags": []
          },
          "execution_count": 9
        }
      ]
    },
    {
      "cell_type": "code",
      "metadata": {
        "id": "dUgsmbcrGleG"
      },
      "source": [
        "clf1 = MultinomialNB()\n",
        "clf2 = RandomForestClassifier()\n",
        "clf3 = LogisticRegression()\n",
        "lr = LogisticRegression()\n",
        "sclf = StackingClassifier(classifiers=[clf1, clf2, clf3], \n",
        "                          use_probas=True,\n",
        "                          meta_classifier=lr)\n",
        "vclf = VotingClassifier(clfs=[clf1, clf2, clf3], weights=[1,1,1])"
      ],
      "execution_count": null,
      "outputs": []
    },
    {
      "cell_type": "code",
      "metadata": {
        "colab": {
          "base_uri": "https://localhost:8080/"
        },
        "id": "iBTi6TTcGnYI",
        "outputId": "3ad9d651-90f5-4422-d7d2-b7c31a810e86"
      },
      "source": [
        "print('5-fold cross validation:\\n')\n",
        "\n",
        "for clf, label in zip([clf1, clf2, clf3, sclf, vclf], \n",
        "                      ['Multinomial NB', \n",
        "                       'Random Forests', \n",
        "                       'logistic Regression',\n",
        "                       'StackingClassifier', \n",
        "                       'Voting classifier']):\n",
        "  \n",
        "    scores = model_selection.cross_val_score(clf, corpus_tf_idf, train['label'].values, cv=5, scoring=\"accuracy\")\n",
        "    print(\"Accuracy: %0.2f (+/- %0.2f) [%s]\" \n",
        "          % (scores.mean(), scores.std(), label))"
      ],
      "execution_count": null,
      "outputs": [
        {
          "output_type": "stream",
          "text": [
            "5-fold cross validation:\n",
            "\n",
            "Accuracy: 0.90 (+/- 0.00) [Multinomial NB]\n",
            "Accuracy: 0.95 (+/- 0.00) [Random Forests]\n",
            "Accuracy: 0.94 (+/- 0.00) [logistic Regression]\n",
            "Accuracy: 0.96 (+/- 0.00) [StackingClassifier]\n",
            "Accuracy: 0.95 (+/- 0.00) [Voting classifier]\n"
          ],
          "name": "stdout"
        }
      ]
    }
  ]
}