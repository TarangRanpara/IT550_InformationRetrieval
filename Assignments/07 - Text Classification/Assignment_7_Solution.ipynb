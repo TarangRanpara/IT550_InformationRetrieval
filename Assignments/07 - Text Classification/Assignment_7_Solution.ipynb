{
  "nbformat": 4,
  "nbformat_minor": 0,
  "metadata": {
    "colab": {
      "name": "IR_Assignment7.ipynb",
      "provenance": [],
      "collapsed_sections": [],
      "toc_visible": true
    },
    "kernelspec": {
      "name": "python3",
      "display_name": "Python 3"
    },
    "language_info": {
      "name": "python"
    }
  },
  "cells": [
    {
      "cell_type": "markdown",
      "metadata": {
        "id": "e4c4_snMs8W9"
      },
      "source": [
        "submitted by Tarang Ranpara (202011057)"
      ]
    },
    {
      "cell_type": "code",
      "metadata": {
        "colab": {
          "base_uri": "https://localhost:8080/"
        },
        "id": "Je8nOXta7nf5",
        "outputId": "093e0f5c-c7ac-46df-966e-de0d5c7866be"
      },
      "source": [
        "from google.colab import drive\n",
        "drive.mount('/content/drive')"
      ],
      "execution_count": null,
      "outputs": [
        {
          "output_type": "stream",
          "text": [
            "Mounted at /content/drive\n"
          ],
          "name": "stdout"
        }
      ]
    },
    {
      "cell_type": "code",
      "metadata": {
        "colab": {
          "base_uri": "https://localhost:8080/"
        },
        "id": "8bXgkyqKgtov",
        "outputId": "3465003a-b50e-48a3-8a12-b7299f9e8434"
      },
      "source": [
        "!pip install --upgrade gensim"
      ],
      "execution_count": null,
      "outputs": [
        {
          "output_type": "stream",
          "text": [
            "Collecting gensim\n",
            "\u001b[?25l  Downloading https://files.pythonhosted.org/packages/5c/4e/afe2315e08a38967f8a3036bbe7e38b428e9b7a90e823a83d0d49df1adf5/gensim-3.8.3-cp37-cp37m-manylinux1_x86_64.whl (24.2MB)\n",
            "\u001b[K     |████████████████████████████████| 24.2MB 1.7MB/s \n",
            "\u001b[?25hRequirement already satisfied, skipping upgrade: numpy>=1.11.3 in /usr/local/lib/python3.7/dist-packages (from gensim) (1.19.5)\n",
            "Requirement already satisfied, skipping upgrade: six>=1.5.0 in /usr/local/lib/python3.7/dist-packages (from gensim) (1.15.0)\n",
            "Requirement already satisfied, skipping upgrade: scipy>=0.18.1 in /usr/local/lib/python3.7/dist-packages (from gensim) (1.4.1)\n",
            "Requirement already satisfied, skipping upgrade: smart-open>=1.8.1 in /usr/local/lib/python3.7/dist-packages (from gensim) (4.2.0)\n",
            "Installing collected packages: gensim\n",
            "  Found existing installation: gensim 3.6.0\n",
            "    Uninstalling gensim-3.6.0:\n",
            "      Successfully uninstalled gensim-3.6.0\n",
            "Successfully installed gensim-3.8.3\n"
          ],
          "name": "stdout"
        }
      ]
    },
    {
      "cell_type": "code",
      "metadata": {
        "id": "gHcBjQ-W7pxP",
        "colab": {
          "base_uri": "https://localhost:8080/"
        },
        "outputId": "332f4781-9128-4782-8f98-4e7c2a0292ad"
      },
      "source": [
        "# importing essential libs\n",
        "import os \n",
        "import re\n",
        "import nltk\n",
        "import pickle\n",
        "import numpy as np\n",
        "import pandas as pd\n",
        "from sklearn import svm\n",
        "from sklearn.svm import LinearSVC\n",
        "from gensim.models import Word2Vec\n",
        "from sklearn.feature_extraction.text import TfidfVectorizer\n",
        "from sklearn.metrics import precision_recall_fscore_support\n",
        "\n",
        "# downloading essentials\n",
        "nltk.download('stopwords')\n",
        "nltk.download('wordnet')\n",
        "nltk.download('punkt')\n",
        "nltk.download('averaged_perceptron_tagger')"
      ],
      "execution_count": null,
      "outputs": [
        {
          "output_type": "stream",
          "text": [
            "[nltk_data] Downloading package stopwords to /root/nltk_data...\n",
            "[nltk_data]   Unzipping corpora/stopwords.zip.\n",
            "[nltk_data] Downloading package wordnet to /root/nltk_data...\n",
            "[nltk_data]   Unzipping corpora/wordnet.zip.\n",
            "[nltk_data] Downloading package punkt to /root/nltk_data...\n",
            "[nltk_data]   Unzipping tokenizers/punkt.zip.\n",
            "[nltk_data] Downloading package averaged_perceptron_tagger to\n",
            "[nltk_data]     /root/nltk_data...\n",
            "[nltk_data]   Unzipping taggers/averaged_perceptron_tagger.zip.\n"
          ],
          "name": "stdout"
        },
        {
          "output_type": "execute_result",
          "data": {
            "text/plain": [
              "True"
            ]
          },
          "metadata": {
            "tags": []
          },
          "execution_count": 3
        }
      ]
    },
    {
      "cell_type": "markdown",
      "metadata": {
        "id": "ZFSZn4jS-l-C"
      },
      "source": [
        "Data Loading and Preprocesssing"
      ]
    },
    {
      "cell_type": "code",
      "metadata": {
        "id": "IZ8noosfhCQY"
      },
      "source": [
        "dir = './drive/MyDrive/IRLAB/A7/'\n",
        "\n",
        "train = pd.read_csv(os.path.join(dir, 'train.csv'))\n",
        "test = pd.read_csv(os.path.join(dir, 'test.csv'))\n",
        "test_labels = pd.read_csv(os.path.join(dir, 'test_labels.csv'))"
      ],
      "execution_count": null,
      "outputs": []
    },
    {
      "cell_type": "code",
      "metadata": {
        "colab": {
          "base_uri": "https://localhost:8080/",
          "height": 255
        },
        "id": "bhrfgnLO-chL",
        "outputId": "843252cd-483a-4908-a411-0ae8fa6b911b"
      },
      "source": [
        "train.head()"
      ],
      "execution_count": null,
      "outputs": [
        {
          "output_type": "execute_result",
          "data": {
            "text/html": [
              "<div>\n",
              "<style scoped>\n",
              "    .dataframe tbody tr th:only-of-type {\n",
              "        vertical-align: middle;\n",
              "    }\n",
              "\n",
              "    .dataframe tbody tr th {\n",
              "        vertical-align: top;\n",
              "    }\n",
              "\n",
              "    .dataframe thead th {\n",
              "        text-align: right;\n",
              "    }\n",
              "</style>\n",
              "<table border=\"1\" class=\"dataframe\">\n",
              "  <thead>\n",
              "    <tr style=\"text-align: right;\">\n",
              "      <th></th>\n",
              "      <th>id</th>\n",
              "      <th>comment_text</th>\n",
              "      <th>toxic</th>\n",
              "      <th>severe_toxic</th>\n",
              "      <th>obscene</th>\n",
              "      <th>threat</th>\n",
              "      <th>insult</th>\n",
              "      <th>identity_hate</th>\n",
              "    </tr>\n",
              "  </thead>\n",
              "  <tbody>\n",
              "    <tr>\n",
              "      <th>0</th>\n",
              "      <td>0000997932d777bf</td>\n",
              "      <td>Explanation\\nWhy the edits made under my usern...</td>\n",
              "      <td>0</td>\n",
              "      <td>0</td>\n",
              "      <td>0</td>\n",
              "      <td>0</td>\n",
              "      <td>0</td>\n",
              "      <td>0</td>\n",
              "    </tr>\n",
              "    <tr>\n",
              "      <th>1</th>\n",
              "      <td>000103f0d9cfb60f</td>\n",
              "      <td>D'aww! He matches this background colour I'm s...</td>\n",
              "      <td>0</td>\n",
              "      <td>0</td>\n",
              "      <td>0</td>\n",
              "      <td>0</td>\n",
              "      <td>0</td>\n",
              "      <td>0</td>\n",
              "    </tr>\n",
              "    <tr>\n",
              "      <th>2</th>\n",
              "      <td>000113f07ec002fd</td>\n",
              "      <td>Hey man, I'm really not trying to edit war. It...</td>\n",
              "      <td>0</td>\n",
              "      <td>0</td>\n",
              "      <td>0</td>\n",
              "      <td>0</td>\n",
              "      <td>0</td>\n",
              "      <td>0</td>\n",
              "    </tr>\n",
              "    <tr>\n",
              "      <th>3</th>\n",
              "      <td>0001b41b1c6bb37e</td>\n",
              "      <td>\"\\nMore\\nI can't make any real suggestions on ...</td>\n",
              "      <td>0</td>\n",
              "      <td>0</td>\n",
              "      <td>0</td>\n",
              "      <td>0</td>\n",
              "      <td>0</td>\n",
              "      <td>0</td>\n",
              "    </tr>\n",
              "    <tr>\n",
              "      <th>4</th>\n",
              "      <td>0001d958c54c6e35</td>\n",
              "      <td>You, sir, are my hero. Any chance you remember...</td>\n",
              "      <td>0</td>\n",
              "      <td>0</td>\n",
              "      <td>0</td>\n",
              "      <td>0</td>\n",
              "      <td>0</td>\n",
              "      <td>0</td>\n",
              "    </tr>\n",
              "  </tbody>\n",
              "</table>\n",
              "</div>"
            ],
            "text/plain": [
              "                 id  ... identity_hate\n",
              "0  0000997932d777bf  ...             0\n",
              "1  000103f0d9cfb60f  ...             0\n",
              "2  000113f07ec002fd  ...             0\n",
              "3  0001b41b1c6bb37e  ...             0\n",
              "4  0001d958c54c6e35  ...             0\n",
              "\n",
              "[5 rows x 8 columns]"
            ]
          },
          "metadata": {
            "tags": []
          },
          "execution_count": 5
        }
      ]
    },
    {
      "cell_type": "code",
      "metadata": {
        "colab": {
          "base_uri": "https://localhost:8080/",
          "height": 204
        },
        "id": "vOfO_pQd-gIX",
        "outputId": "d7a33e79-3cbc-4bae-c790-f1f4228afbea"
      },
      "source": [
        "test.head()"
      ],
      "execution_count": null,
      "outputs": [
        {
          "output_type": "execute_result",
          "data": {
            "text/html": [
              "<div>\n",
              "<style scoped>\n",
              "    .dataframe tbody tr th:only-of-type {\n",
              "        vertical-align: middle;\n",
              "    }\n",
              "\n",
              "    .dataframe tbody tr th {\n",
              "        vertical-align: top;\n",
              "    }\n",
              "\n",
              "    .dataframe thead th {\n",
              "        text-align: right;\n",
              "    }\n",
              "</style>\n",
              "<table border=\"1\" class=\"dataframe\">\n",
              "  <thead>\n",
              "    <tr style=\"text-align: right;\">\n",
              "      <th></th>\n",
              "      <th>id</th>\n",
              "      <th>comment_text</th>\n",
              "    </tr>\n",
              "  </thead>\n",
              "  <tbody>\n",
              "    <tr>\n",
              "      <th>0</th>\n",
              "      <td>00001cee341fdb12</td>\n",
              "      <td>Yo bitch Ja Rule is more succesful then you'll...</td>\n",
              "    </tr>\n",
              "    <tr>\n",
              "      <th>1</th>\n",
              "      <td>0000247867823ef7</td>\n",
              "      <td>== From RfC == \\n\\n The title is fine as it is...</td>\n",
              "    </tr>\n",
              "    <tr>\n",
              "      <th>2</th>\n",
              "      <td>00013b17ad220c46</td>\n",
              "      <td>\" \\n\\n == Sources == \\n\\n * Zawe Ashton on Lap...</td>\n",
              "    </tr>\n",
              "    <tr>\n",
              "      <th>3</th>\n",
              "      <td>00017563c3f7919a</td>\n",
              "      <td>:If you have a look back at the source, the in...</td>\n",
              "    </tr>\n",
              "    <tr>\n",
              "      <th>4</th>\n",
              "      <td>00017695ad8997eb</td>\n",
              "      <td>I don't anonymously edit articles at all.</td>\n",
              "    </tr>\n",
              "  </tbody>\n",
              "</table>\n",
              "</div>"
            ],
            "text/plain": [
              "                 id                                       comment_text\n",
              "0  00001cee341fdb12  Yo bitch Ja Rule is more succesful then you'll...\n",
              "1  0000247867823ef7  == From RfC == \\n\\n The title is fine as it is...\n",
              "2  00013b17ad220c46  \" \\n\\n == Sources == \\n\\n * Zawe Ashton on Lap...\n",
              "3  00017563c3f7919a  :If you have a look back at the source, the in...\n",
              "4  00017695ad8997eb          I don't anonymously edit articles at all."
            ]
          },
          "metadata": {
            "tags": []
          },
          "execution_count": 6
        }
      ]
    },
    {
      "cell_type": "code",
      "metadata": {
        "colab": {
          "base_uri": "https://localhost:8080/",
          "height": 204
        },
        "id": "jNb8vWZI-q1z",
        "outputId": "970ad130-391e-4d31-8963-61f04b4a1ca8"
      },
      "source": [
        "test_labels.head()"
      ],
      "execution_count": null,
      "outputs": [
        {
          "output_type": "execute_result",
          "data": {
            "text/html": [
              "<div>\n",
              "<style scoped>\n",
              "    .dataframe tbody tr th:only-of-type {\n",
              "        vertical-align: middle;\n",
              "    }\n",
              "\n",
              "    .dataframe tbody tr th {\n",
              "        vertical-align: top;\n",
              "    }\n",
              "\n",
              "    .dataframe thead th {\n",
              "        text-align: right;\n",
              "    }\n",
              "</style>\n",
              "<table border=\"1\" class=\"dataframe\">\n",
              "  <thead>\n",
              "    <tr style=\"text-align: right;\">\n",
              "      <th></th>\n",
              "      <th>id</th>\n",
              "      <th>toxic</th>\n",
              "      <th>severe_toxic</th>\n",
              "      <th>obscene</th>\n",
              "      <th>threat</th>\n",
              "      <th>insult</th>\n",
              "      <th>identity_hate</th>\n",
              "    </tr>\n",
              "  </thead>\n",
              "  <tbody>\n",
              "    <tr>\n",
              "      <th>0</th>\n",
              "      <td>00001cee341fdb12</td>\n",
              "      <td>-1</td>\n",
              "      <td>-1</td>\n",
              "      <td>-1</td>\n",
              "      <td>-1</td>\n",
              "      <td>-1</td>\n",
              "      <td>-1</td>\n",
              "    </tr>\n",
              "    <tr>\n",
              "      <th>1</th>\n",
              "      <td>0000247867823ef7</td>\n",
              "      <td>-1</td>\n",
              "      <td>-1</td>\n",
              "      <td>-1</td>\n",
              "      <td>-1</td>\n",
              "      <td>-1</td>\n",
              "      <td>-1</td>\n",
              "    </tr>\n",
              "    <tr>\n",
              "      <th>2</th>\n",
              "      <td>00013b17ad220c46</td>\n",
              "      <td>-1</td>\n",
              "      <td>-1</td>\n",
              "      <td>-1</td>\n",
              "      <td>-1</td>\n",
              "      <td>-1</td>\n",
              "      <td>-1</td>\n",
              "    </tr>\n",
              "    <tr>\n",
              "      <th>3</th>\n",
              "      <td>00017563c3f7919a</td>\n",
              "      <td>-1</td>\n",
              "      <td>-1</td>\n",
              "      <td>-1</td>\n",
              "      <td>-1</td>\n",
              "      <td>-1</td>\n",
              "      <td>-1</td>\n",
              "    </tr>\n",
              "    <tr>\n",
              "      <th>4</th>\n",
              "      <td>00017695ad8997eb</td>\n",
              "      <td>-1</td>\n",
              "      <td>-1</td>\n",
              "      <td>-1</td>\n",
              "      <td>-1</td>\n",
              "      <td>-1</td>\n",
              "      <td>-1</td>\n",
              "    </tr>\n",
              "  </tbody>\n",
              "</table>\n",
              "</div>"
            ],
            "text/plain": [
              "                 id  toxic  severe_toxic  ...  threat  insult  identity_hate\n",
              "0  00001cee341fdb12     -1            -1  ...      -1      -1             -1\n",
              "1  0000247867823ef7     -1            -1  ...      -1      -1             -1\n",
              "2  00013b17ad220c46     -1            -1  ...      -1      -1             -1\n",
              "3  00017563c3f7919a     -1            -1  ...      -1      -1             -1\n",
              "4  00017695ad8997eb     -1            -1  ...      -1      -1             -1\n",
              "\n",
              "[5 rows x 7 columns]"
            ]
          },
          "metadata": {
            "tags": []
          },
          "execution_count": 7
        }
      ]
    },
    {
      "cell_type": "code",
      "metadata": {
        "colab": {
          "base_uri": "https://localhost:8080/",
          "height": 69
        },
        "id": "l7AzlISx-6Iw",
        "outputId": "2d88dee9-0328-4fc8-fa86-5d078f831fcd"
      },
      "source": [
        "train['comment_text'][0]"
      ],
      "execution_count": null,
      "outputs": [
        {
          "output_type": "execute_result",
          "data": {
            "application/vnd.google.colaboratory.intrinsic+json": {
              "type": "string"
            },
            "text/plain": [
              "\"Explanation\\nWhy the edits made under my username Hardcore Metallica Fan were reverted? They weren't vandalisms, just closure on some GAs after I voted at New York Dolls FAC. And please don't remove the template from the talk page since I'm retired now.89.205.38.27\""
            ]
          },
          "metadata": {
            "tags": []
          },
          "execution_count": 8
        }
      ]
    },
    {
      "cell_type": "code",
      "metadata": {
        "id": "b29PbXq_Aqdy"
      },
      "source": [
        "lengths = train['comment_text'].str.len()"
      ],
      "execution_count": null,
      "outputs": []
    },
    {
      "cell_type": "code",
      "metadata": {
        "colab": {
          "base_uri": "https://localhost:8080/",
          "height": 282
        },
        "id": "RqNldllrBpTE",
        "outputId": "f8f59028-aad1-472d-9823-e34e9323d1eb"
      },
      "source": [
        "lengths.hist()"
      ],
      "execution_count": null,
      "outputs": [
        {
          "output_type": "execute_result",
          "data": {
            "text/plain": [
              "<matplotlib.axes._subplots.AxesSubplot at 0x7f238528da10>"
            ]
          },
          "metadata": {
            "tags": []
          },
          "execution_count": 10
        },
        {
          "output_type": "display_data",
          "data": {
            "image/png": "[encoded data removed]",
            "text/plain": [
              "<Figure size 432x288 with 1 Axes>"
            ]
          },
          "metadata": {
            "tags": [],
            "needs_background": "light"
          }
        }
      ]
    },
    {
      "cell_type": "code",
      "metadata": {
        "colab": {
          "base_uri": "https://localhost:8080/",
          "height": 297
        },
        "id": "aUjWqcOFBuXL",
        "outputId": "31d61a46-c1c3-478e-ac05-8d129240b52f"
      },
      "source": [
        "label_cols = ['toxic', 'severe_toxic', 'obscene', 'threat', 'insult', 'identity_hate']\n",
        "\n",
        "# for those comments who don't have lables\n",
        "train['none'] = 1-train[label_cols].max(axis=1)\n",
        "train.describe()"
      ],
      "execution_count": null,
      "outputs": [
        {
          "output_type": "execute_result",
          "data": {
            "text/html": [
              "<div>\n",
              "<style scoped>\n",
              "    .dataframe tbody tr th:only-of-type {\n",
              "        vertical-align: middle;\n",
              "    }\n",
              "\n",
              "    .dataframe tbody tr th {\n",
              "        vertical-align: top;\n",
              "    }\n",
              "\n",
              "    .dataframe thead th {\n",
              "        text-align: right;\n",
              "    }\n",
              "</style>\n",
              "<table border=\"1\" class=\"dataframe\">\n",
              "  <thead>\n",
              "    <tr style=\"text-align: right;\">\n",
              "      <th></th>\n",
              "      <th>toxic</th>\n",
              "      <th>severe_toxic</th>\n",
              "      <th>obscene</th>\n",
              "      <th>threat</th>\n",
              "      <th>insult</th>\n",
              "      <th>identity_hate</th>\n",
              "      <th>none</th>\n",
              "    </tr>\n",
              "  </thead>\n",
              "  <tbody>\n",
              "    <tr>\n",
              "      <th>count</th>\n",
              "      <td>159571.000000</td>\n",
              "      <td>159571.000000</td>\n",
              "      <td>159571.000000</td>\n",
              "      <td>159571.000000</td>\n",
              "      <td>159571.000000</td>\n",
              "      <td>159571.000000</td>\n",
              "      <td>159571.000000</td>\n",
              "    </tr>\n",
              "    <tr>\n",
              "      <th>mean</th>\n",
              "      <td>0.095844</td>\n",
              "      <td>0.009996</td>\n",
              "      <td>0.052948</td>\n",
              "      <td>0.002996</td>\n",
              "      <td>0.049364</td>\n",
              "      <td>0.008805</td>\n",
              "      <td>0.898321</td>\n",
              "    </tr>\n",
              "    <tr>\n",
              "      <th>std</th>\n",
              "      <td>0.294379</td>\n",
              "      <td>0.099477</td>\n",
              "      <td>0.223931</td>\n",
              "      <td>0.054650</td>\n",
              "      <td>0.216627</td>\n",
              "      <td>0.093420</td>\n",
              "      <td>0.302226</td>\n",
              "    </tr>\n",
              "    <tr>\n",
              "      <th>min</th>\n",
              "      <td>0.000000</td>\n",
              "      <td>0.000000</td>\n",
              "      <td>0.000000</td>\n",
              "      <td>0.000000</td>\n",
              "      <td>0.000000</td>\n",
              "      <td>0.000000</td>\n",
              "      <td>0.000000</td>\n",
              "    </tr>\n",
              "    <tr>\n",
              "      <th>25%</th>\n",
              "      <td>0.000000</td>\n",
              "      <td>0.000000</td>\n",
              "      <td>0.000000</td>\n",
              "      <td>0.000000</td>\n",
              "      <td>0.000000</td>\n",
              "      <td>0.000000</td>\n",
              "      <td>1.000000</td>\n",
              "    </tr>\n",
              "    <tr>\n",
              "      <th>50%</th>\n",
              "      <td>0.000000</td>\n",
              "      <td>0.000000</td>\n",
              "      <td>0.000000</td>\n",
              "      <td>0.000000</td>\n",
              "      <td>0.000000</td>\n",
              "      <td>0.000000</td>\n",
              "      <td>1.000000</td>\n",
              "    </tr>\n",
              "    <tr>\n",
              "      <th>75%</th>\n",
              "      <td>0.000000</td>\n",
              "      <td>0.000000</td>\n",
              "      <td>0.000000</td>\n",
              "      <td>0.000000</td>\n",
              "      <td>0.000000</td>\n",
              "      <td>0.000000</td>\n",
              "      <td>1.000000</td>\n",
              "    </tr>\n",
              "    <tr>\n",
              "      <th>max</th>\n",
              "      <td>1.000000</td>\n",
              "      <td>1.000000</td>\n",
              "      <td>1.000000</td>\n",
              "      <td>1.000000</td>\n",
              "      <td>1.000000</td>\n",
              "      <td>1.000000</td>\n",
              "      <td>1.000000</td>\n",
              "    </tr>\n",
              "  </tbody>\n",
              "</table>\n",
              "</div>"
            ],
            "text/plain": [
              "               toxic   severe_toxic  ...  identity_hate           none\n",
              "count  159571.000000  159571.000000  ...  159571.000000  159571.000000\n",
              "mean        0.095844       0.009996  ...       0.008805       0.898321\n",
              "std         0.294379       0.099477  ...       0.093420       0.302226\n",
              "min         0.000000       0.000000  ...       0.000000       0.000000\n",
              "25%         0.000000       0.000000  ...       0.000000       1.000000\n",
              "50%         0.000000       0.000000  ...       0.000000       1.000000\n",
              "75%         0.000000       0.000000  ...       0.000000       1.000000\n",
              "max         1.000000       1.000000  ...       1.000000       1.000000\n",
              "\n",
              "[8 rows x 7 columns]"
            ]
          },
          "metadata": {
            "tags": []
          },
          "execution_count": 11
        }
      ]
    },
    {
      "cell_type": "code",
      "metadata": {
        "id": "E5ARqI8nCBgt"
      },
      "source": [
        "train[\"comment_text\"].fillna(\"unknown\", inplace=True)\n",
        "test[\"comment_text\"].fillna(\"unknown\", inplace=True)"
      ],
      "execution_count": null,
      "outputs": []
    },
    {
      "cell_type": "code",
      "metadata": {
        "id": "96v0Pr2pEGT6"
      },
      "source": [
        "stopwords = set(nltk.corpus.stopwords.words('english'))\n",
        "lemmatizer = nltk.stem.WordNetLemmatizer()\n",
        "def preprocess(doc):\n",
        "  global stopwords\n",
        "  global lemmatizer\n",
        "\n",
        "  doc = doc.lower()\n",
        "  doc = re.sub(r'[^a-zA-Z\\s]', '', doc)\n",
        "  doc = nltk.tokenize.word_tokenize(doc)\n",
        "  doc = [token for token in doc if token not in stopwords]\n",
        "  doc = [lemmatizer.lemmatize(token) for token in doc]\n",
        "\n",
        "  return ' '.join(doc)"
      ],
      "execution_count": null,
      "outputs": []
    },
    {
      "cell_type": "code",
      "metadata": {
        "id": "JiXr6GjAG8VQ"
      },
      "source": [
        "train_comments = list(map(preprocess, train['comment_text']))"
      ],
      "execution_count": null,
      "outputs": []
    },
    {
      "cell_type": "code",
      "metadata": {
        "colab": {
          "base_uri": "https://localhost:8080/",
          "height": 52
        },
        "id": "ige_sY_mHE-v",
        "outputId": "497e837b-035e-4972-9153-bbf8066d6a24"
      },
      "source": [
        "train_comments[0]"
      ],
      "execution_count": null,
      "outputs": [
        {
          "output_type": "execute_result",
          "data": {
            "application/vnd.google.colaboratory.intrinsic+json": {
              "type": "string"
            },
            "text/plain": [
              "'explanation edits made username hardcore metallica fan reverted werent vandalism closure gas voted new york doll fac please dont remove template talk page since im retired'"
            ]
          },
          "metadata": {
            "tags": []
          },
          "execution_count": 15
        }
      ]
    },
    {
      "cell_type": "markdown",
      "metadata": {
        "id": "ipd8ca4m-wB7"
      },
      "source": [
        "Training TF-IDF Vectorizer"
      ]
    },
    {
      "cell_type": "code",
      "metadata": {
        "id": "W_3HKknwJhg7"
      },
      "source": [
        "vectorizer = TfidfVectorizer()\n",
        "corpus_tf_idf = vectorizer.fit_transform(train_comments)"
      ],
      "execution_count": null,
      "outputs": []
    },
    {
      "cell_type": "markdown",
      "metadata": {
        "id": "cI3n61dV-3HP"
      },
      "source": [
        "Training SVM Model for each class, and making predictions "
      ]
    },
    {
      "cell_type": "code",
      "metadata": {
        "id": "msDk5uDOYpyA"
      },
      "source": [
        "toxic_clf = svm.SVC()\n",
        "severe_toxic_clf = svm.SVC()\n",
        "obscene_clf = svm.SVC()\n",
        "threat_clf = svm.SVC()\n",
        "insult_clf = svm.SVC()\n",
        "identity_hate_clf = svm.SVC()"
      ],
      "execution_count": null,
      "outputs": []
    },
    {
      "cell_type": "code",
      "metadata": {
        "id": "2uw5J-y2GUCa"
      },
      "source": [
        "toxic_clf.fit(corpus_tf_idf, train['toxic'])\n",
        "pickle.dump(toxic_clf, open('./drive/MyDrive/IRLAB/A7/toxic_clf', 'wb'))"
      ],
      "execution_count": null,
      "outputs": []
    },
    {
      "cell_type": "code",
      "metadata": {
        "id": "yyqsCmgtG8qT"
      },
      "source": [
        "severe_toxic_clf.fit(corpus_tf_idf, train['severe_toxic'])\n",
        "pickle.dump(severe_toxic_clf, open('./drive/MyDrive/IRLAB/A7/severe_toxic_clf', 'wb'))"
      ],
      "execution_count": null,
      "outputs": []
    },
    {
      "cell_type": "code",
      "metadata": {
        "id": "C7Ey7JueG88A"
      },
      "source": [
        "obscene_clf.fit(corpus_tf_idf, train['obscene'])\n",
        "pickle.dump(obscene_clf, open('./drive/MyDrive/IRLAB/A7/obscene_clf', 'wb'))"
      ],
      "execution_count": null,
      "outputs": []
    },
    {
      "cell_type": "code",
      "metadata": {
        "id": "7JEGp_O1G9Ml"
      },
      "source": [
        "threat_clf.fit(corpus_tf_idf, train['threat'])\n",
        "pickle.dump(threat_clf, open('./drive/MyDrive/IRLAB/A7/threat_clf', 'wb'))"
      ],
      "execution_count": null,
      "outputs": []
    },
    {
      "cell_type": "code",
      "metadata": {
        "id": "OSbUlXBiG9bB"
      },
      "source": [
        "insult_clf.fit(corpus_tf_idf, train['insult'])\n",
        "pickle.dump(insult_clf, open('./drive/MyDrive/IRLAB/A7/insult_clf', 'wb'))"
      ],
      "execution_count": null,
      "outputs": []
    },
    {
      "cell_type": "code",
      "metadata": {
        "id": "Bjk7-mxsG9nk"
      },
      "source": [
        "identity_hate_clf.fit(corpus_tf_idf, train['identity_hate'])\n",
        "pickle.dump(identity_hate_clf, open('./drive/MyDrive/IRLAB/A7/identity_hate_clf', 'wb'))"
      ],
      "execution_count": null,
      "outputs": []
    },
    {
      "cell_type": "code",
      "metadata": {
        "id": "mRDMuGYtIVbm"
      },
      "source": [
        "pickle.dump(corpus_tf_idf, open('./drive/MyDrive/IRLAB/A7/corpus_tf_idf', 'wb'))\n",
        "pickle.dump(test_tf_idf, open('./drive/MyDrive/IRLAB/A7/test_tf_idf', 'wb'))\n",
        "pickle.dump(vectorizer, open('./drive/MyDrive/IRLAB/A7/vectorizer', 'wb'))"
      ],
      "execution_count": null,
      "outputs": []
    },
    {
      "cell_type": "code",
      "metadata": {
        "id": "T1TzUtvhlEM6"
      },
      "source": [
        "toxic_clf = pickle.load(open('./drive/MyDrive/IRLAB/A7/toxic_clf', 'rb'))\n",
        "severe_toxic_clf = pickle.load(open('./drive/MyDrive/IRLAB/A7/severe_toxic_clf', 'rb'))\n",
        "obscene_clf = pickle.load(open('./drive/MyDrive/IRLAB/A7/obscene_clf', 'rb'))\n",
        "threat_clf = pickle.load(open('./drive/MyDrive/IRLAB/A7/threat_clf', 'rb'))\n",
        "insult_clf = pickle.load(open('./drive/MyDrive/IRLAB/A7/insult_clf', 'rb'))\n",
        "identity_hate_clf = pickle.load(open('./drive/MyDrive/IRLAB/A7/identity_hate_clf', 'rb'))"
      ],
      "execution_count": null,
      "outputs": []
    },
    {
      "cell_type": "code",
      "metadata": {
        "id": "xRYzhNQHo-zv"
      },
      "source": [
        "corpus_tf_idf = pickle.load(open('./drive/MyDrive/IRLAB/A7/corpus_tf_idf', 'rb'))\n",
        "vectorizer = pickle.load(open('./drive/MyDrive/IRLAB/A7/vectorizer', 'rb'))"
      ],
      "execution_count": null,
      "outputs": []
    },
    {
      "cell_type": "code",
      "metadata": {
        "id": "UVjYWzvGqn5f"
      },
      "source": [
        "test_labels_new = test_labels[\n",
        "            test_labels['toxic'].isin([0,1]) & test_labels['severe_toxic'].isin([0,1]) & \n",
        "            test_labels['obscene'].isin([0,1]) & test_labels['threat'].isin([0,1]) & \n",
        "            test_labels['insult'].isin([0,1]) & test_labels['identity_hate'].isin([0,1])\n",
        "]"
      ],
      "execution_count": null,
      "outputs": []
    },
    {
      "cell_type": "code",
      "metadata": {
        "id": "ISwujZuAsrnh"
      },
      "source": [
        "test_new = test[test['id'].isin(list(test_labels_new['id']))]"
      ],
      "execution_count": null,
      "outputs": []
    },
    {
      "cell_type": "code",
      "metadata": {
        "colab": {
          "base_uri": "https://localhost:8080/",
          "height": 419
        },
        "id": "BrXOmYqEx0Ll",
        "outputId": "55954d07-8ae8-496a-aea8-192e438784c5"
      },
      "source": [
        "test_labels_new"
      ],
      "execution_count": null,
      "outputs": [
        {
          "output_type": "execute_result",
          "data": {
            "text/html": [
              "<div>\n",
              "<style scoped>\n",
              "    .dataframe tbody tr th:only-of-type {\n",
              "        vertical-align: middle;\n",
              "    }\n",
              "\n",
              "    .dataframe tbody tr th {\n",
              "        vertical-align: top;\n",
              "    }\n",
              "\n",
              "    .dataframe thead th {\n",
              "        text-align: right;\n",
              "    }\n",
              "</style>\n",
              "<table border=\"1\" class=\"dataframe\">\n",
              "  <thead>\n",
              "    <tr style=\"text-align: right;\">\n",
              "      <th></th>\n",
              "      <th>id</th>\n",
              "      <th>toxic</th>\n",
              "      <th>severe_toxic</th>\n",
              "      <th>obscene</th>\n",
              "      <th>threat</th>\n",
              "      <th>insult</th>\n",
              "      <th>identity_hate</th>\n",
              "    </tr>\n",
              "  </thead>\n",
              "  <tbody>\n",
              "    <tr>\n",
              "      <th>5</th>\n",
              "      <td>0001ea8717f6de06</td>\n",
              "      <td>0</td>\n",
              "      <td>0</td>\n",
              "      <td>0</td>\n",
              "      <td>0</td>\n",
              "      <td>0</td>\n",
              "      <td>0</td>\n",
              "    </tr>\n",
              "    <tr>\n",
              "      <th>7</th>\n",
              "      <td>000247e83dcc1211</td>\n",
              "      <td>0</td>\n",
              "      <td>0</td>\n",
              "      <td>0</td>\n",
              "      <td>0</td>\n",
              "      <td>0</td>\n",
              "      <td>0</td>\n",
              "    </tr>\n",
              "    <tr>\n",
              "      <th>11</th>\n",
              "      <td>0002f87b16116a7f</td>\n",
              "      <td>0</td>\n",
              "      <td>0</td>\n",
              "      <td>0</td>\n",
              "      <td>0</td>\n",
              "      <td>0</td>\n",
              "      <td>0</td>\n",
              "    </tr>\n",
              "    <tr>\n",
              "      <th>13</th>\n",
              "      <td>0003e1cccfd5a40a</td>\n",
              "      <td>0</td>\n",
              "      <td>0</td>\n",
              "      <td>0</td>\n",
              "      <td>0</td>\n",
              "      <td>0</td>\n",
              "      <td>0</td>\n",
              "    </tr>\n",
              "    <tr>\n",
              "      <th>14</th>\n",
              "      <td>00059ace3e3e9a53</td>\n",
              "      <td>0</td>\n",
              "      <td>0</td>\n",
              "      <td>0</td>\n",
              "      <td>0</td>\n",
              "      <td>0</td>\n",
              "      <td>0</td>\n",
              "    </tr>\n",
              "    <tr>\n",
              "      <th>...</th>\n",
              "      <td>...</td>\n",
              "      <td>...</td>\n",
              "      <td>...</td>\n",
              "      <td>...</td>\n",
              "      <td>...</td>\n",
              "      <td>...</td>\n",
              "      <td>...</td>\n",
              "    </tr>\n",
              "    <tr>\n",
              "      <th>153150</th>\n",
              "      <td>fff8f64043129fa2</td>\n",
              "      <td>0</td>\n",
              "      <td>0</td>\n",
              "      <td>0</td>\n",
              "      <td>0</td>\n",
              "      <td>0</td>\n",
              "      <td>0</td>\n",
              "    </tr>\n",
              "    <tr>\n",
              "      <th>153151</th>\n",
              "      <td>fff9d70fe0722906</td>\n",
              "      <td>0</td>\n",
              "      <td>0</td>\n",
              "      <td>0</td>\n",
              "      <td>0</td>\n",
              "      <td>0</td>\n",
              "      <td>0</td>\n",
              "    </tr>\n",
              "    <tr>\n",
              "      <th>153154</th>\n",
              "      <td>fffa8a11c4378854</td>\n",
              "      <td>0</td>\n",
              "      <td>0</td>\n",
              "      <td>0</td>\n",
              "      <td>0</td>\n",
              "      <td>0</td>\n",
              "      <td>0</td>\n",
              "    </tr>\n",
              "    <tr>\n",
              "      <th>153155</th>\n",
              "      <td>fffac2a094c8e0e2</td>\n",
              "      <td>1</td>\n",
              "      <td>0</td>\n",
              "      <td>1</td>\n",
              "      <td>0</td>\n",
              "      <td>1</td>\n",
              "      <td>0</td>\n",
              "    </tr>\n",
              "    <tr>\n",
              "      <th>153156</th>\n",
              "      <td>fffb5451268fb5ba</td>\n",
              "      <td>0</td>\n",
              "      <td>0</td>\n",
              "      <td>0</td>\n",
              "      <td>0</td>\n",
              "      <td>0</td>\n",
              "      <td>0</td>\n",
              "    </tr>\n",
              "  </tbody>\n",
              "</table>\n",
              "<p>63978 rows × 7 columns</p>\n",
              "</div>"
            ],
            "text/plain": [
              "                      id  toxic  severe_toxic  ...  threat  insult  identity_hate\n",
              "5       0001ea8717f6de06      0             0  ...       0       0              0\n",
              "7       000247e83dcc1211      0             0  ...       0       0              0\n",
              "11      0002f87b16116a7f      0             0  ...       0       0              0\n",
              "13      0003e1cccfd5a40a      0             0  ...       0       0              0\n",
              "14      00059ace3e3e9a53      0             0  ...       0       0              0\n",
              "...                  ...    ...           ...  ...     ...     ...            ...\n",
              "153150  fff8f64043129fa2      0             0  ...       0       0              0\n",
              "153151  fff9d70fe0722906      0             0  ...       0       0              0\n",
              "153154  fffa8a11c4378854      0             0  ...       0       0              0\n",
              "153155  fffac2a094c8e0e2      1             0  ...       0       1              0\n",
              "153156  fffb5451268fb5ba      0             0  ...       0       0              0\n",
              "\n",
              "[63978 rows x 7 columns]"
            ]
          },
          "metadata": {
            "tags": []
          },
          "execution_count": 37
        }
      ]
    },
    {
      "cell_type": "code",
      "metadata": {
        "colab": {
          "base_uri": "https://localhost:8080/",
          "height": 419
        },
        "id": "ECm6lgIvyfN-",
        "outputId": "b65c7380-e6c2-4776-d21e-6e669d7fc6c6"
      },
      "source": [
        "test_new"
      ],
      "execution_count": null,
      "outputs": [
        {
          "output_type": "execute_result",
          "data": {
            "text/html": [
              "<div>\n",
              "<style scoped>\n",
              "    .dataframe tbody tr th:only-of-type {\n",
              "        vertical-align: middle;\n",
              "    }\n",
              "\n",
              "    .dataframe tbody tr th {\n",
              "        vertical-align: top;\n",
              "    }\n",
              "\n",
              "    .dataframe thead th {\n",
              "        text-align: right;\n",
              "    }\n",
              "</style>\n",
              "<table border=\"1\" class=\"dataframe\">\n",
              "  <thead>\n",
              "    <tr style=\"text-align: right;\">\n",
              "      <th></th>\n",
              "      <th>id</th>\n",
              "      <th>comment_text</th>\n",
              "    </tr>\n",
              "  </thead>\n",
              "  <tbody>\n",
              "    <tr>\n",
              "      <th>5</th>\n",
              "      <td>0001ea8717f6de06</td>\n",
              "      <td>Thank you for understanding. I think very high...</td>\n",
              "    </tr>\n",
              "    <tr>\n",
              "      <th>7</th>\n",
              "      <td>000247e83dcc1211</td>\n",
              "      <td>:Dear god this site is horrible.</td>\n",
              "    </tr>\n",
              "    <tr>\n",
              "      <th>11</th>\n",
              "      <td>0002f87b16116a7f</td>\n",
              "      <td>\"::: Somebody will invariably try to add Relig...</td>\n",
              "    </tr>\n",
              "    <tr>\n",
              "      <th>13</th>\n",
              "      <td>0003e1cccfd5a40a</td>\n",
              "      <td>\" \\n\\n It says it right there that it IS a typ...</td>\n",
              "    </tr>\n",
              "    <tr>\n",
              "      <th>14</th>\n",
              "      <td>00059ace3e3e9a53</td>\n",
              "      <td>\" \\n\\n == Before adding a new product to the l...</td>\n",
              "    </tr>\n",
              "    <tr>\n",
              "      <th>...</th>\n",
              "      <td>...</td>\n",
              "      <td>...</td>\n",
              "    </tr>\n",
              "    <tr>\n",
              "      <th>153150</th>\n",
              "      <td>fff8f64043129fa2</td>\n",
              "      <td>:Jerome, I see you never got around to this…! ...</td>\n",
              "    </tr>\n",
              "    <tr>\n",
              "      <th>153151</th>\n",
              "      <td>fff9d70fe0722906</td>\n",
              "      <td>==Lucky bastard== \\n http://wikimediafoundatio...</td>\n",
              "    </tr>\n",
              "    <tr>\n",
              "      <th>153154</th>\n",
              "      <td>fffa8a11c4378854</td>\n",
              "      <td>==shame on you all!!!== \\n\\n You want to speak...</td>\n",
              "    </tr>\n",
              "    <tr>\n",
              "      <th>153155</th>\n",
              "      <td>fffac2a094c8e0e2</td>\n",
              "      <td>MEL GIBSON IS A NAZI BITCH WHO MAKES SHITTY MO...</td>\n",
              "    </tr>\n",
              "    <tr>\n",
              "      <th>153156</th>\n",
              "      <td>fffb5451268fb5ba</td>\n",
              "      <td>\" \\n\\n == Unicorn lair discovery == \\n\\n Suppo...</td>\n",
              "    </tr>\n",
              "  </tbody>\n",
              "</table>\n",
              "<p>63978 rows × 2 columns</p>\n",
              "</div>"
            ],
            "text/plain": [
              "                      id                                       comment_text\n",
              "5       0001ea8717f6de06  Thank you for understanding. I think very high...\n",
              "7       000247e83dcc1211                   :Dear god this site is horrible.\n",
              "11      0002f87b16116a7f  \"::: Somebody will invariably try to add Relig...\n",
              "13      0003e1cccfd5a40a  \" \\n\\n It says it right there that it IS a typ...\n",
              "14      00059ace3e3e9a53  \" \\n\\n == Before adding a new product to the l...\n",
              "...                  ...                                                ...\n",
              "153150  fff8f64043129fa2  :Jerome, I see you never got around to this…! ...\n",
              "153151  fff9d70fe0722906  ==Lucky bastard== \\n http://wikimediafoundatio...\n",
              "153154  fffa8a11c4378854  ==shame on you all!!!== \\n\\n You want to speak...\n",
              "153155  fffac2a094c8e0e2  MEL GIBSON IS A NAZI BITCH WHO MAKES SHITTY MO...\n",
              "153156  fffb5451268fb5ba  \" \\n\\n == Unicorn lair discovery == \\n\\n Suppo...\n",
              "\n",
              "[63978 rows x 2 columns]"
            ]
          },
          "metadata": {
            "tags": []
          },
          "execution_count": 38
        }
      ]
    },
    {
      "cell_type": "code",
      "metadata": {
        "id": "gcnOwEioyj1-"
      },
      "source": [
        "new_testset = pd.merge(test_new, test_labels_new, on=\"id\", how=\"inner\")\n",
        "pickle.dump(new_testset, open('./drive/MyDrive/IRLAB/A7/new_testset', 'wb'))"
      ],
      "execution_count": null,
      "outputs": []
    },
    {
      "cell_type": "code",
      "metadata": {
        "id": "NA13clxM1JnX"
      },
      "source": [
        "test_tf_idf = vectorizer.transform(new_testset['comment_text'])"
      ],
      "execution_count": null,
      "outputs": []
    },
    {
      "cell_type": "code",
      "metadata": {
        "id": "zfcAeO601nhz"
      },
      "source": [
        "toxic_pred = toxic_clf.predict(test_tf_idf)\n",
        "severe_toxic_pred = severe_toxic_clf.predict(test_tf_idf)\n",
        "obscene_pred = obscene_clf.predict(test_tf_idf)\n",
        "threat_pred = threat_clf.predict(test_tf_idf)\n",
        "insult_pred = insult_clf.predict(test_tf_idf)\n",
        "identity_hate_pred = identity_hate_clf.predict(test_tf_idf)"
      ],
      "execution_count": null,
      "outputs": []
    },
    {
      "cell_type": "code",
      "metadata": {
        "id": "mYr8qBU_GBPq"
      },
      "source": [
        "pickle.dump(toxic_pred, open('./drive/MyDrive/IRLAB/A7/toxic_pred', 'wb'))\n",
        "pickle.dump(severe_toxic_pred, open('./drive/MyDrive/IRLAB/A7/severe_toxic_pred', 'wb'))\n",
        "pickle.dump(obscene_pred, open('./drive/MyDrive/IRLAB/A7/obscene_pred', 'wb'))\n",
        "pickle.dump(threat_pred, open('./drive/MyDrive/IRLAB/A7/threat_pred', 'wb'))\n",
        "pickle.dump(insult_pred, open('./drive/MyDrive/IRLAB/A7/insult_pred', 'wb'))\n",
        "pickle.dump(identity_hate_pred, open('./drive/MyDrive/IRLAB/A7/identity_hate_pred', 'wb'))"
      ],
      "execution_count": null,
      "outputs": []
    },
    {
      "cell_type": "code",
      "metadata": {
        "id": "Kij5aa94MI6W"
      },
      "source": [
        "test_pred = pd.DataFrame(dict({\n",
        "        'toxic': toxic_pred, \n",
        "        'severe_toxic': severe_toxic_pred, \n",
        "        'obscene': obscene_pred, \n",
        "        'threat': threat_pred, \n",
        "        'insult':insult_pred, \n",
        "        'identity_hate':identity_hate_pred\n",
        "}))"
      ],
      "execution_count": null,
      "outputs": []
    },
    {
      "cell_type": "code",
      "metadata": {
        "colab": {
          "base_uri": "https://localhost:8080/",
          "height": 419
        },
        "id": "YkTuFLt68Is4",
        "outputId": "becc07ce-0051-4350-c42d-0b4ee51a25c3"
      },
      "source": [
        "test_pred"
      ],
      "execution_count": null,
      "outputs": [
        {
          "output_type": "execute_result",
          "data": {
            "text/html": [
              "<div>\n",
              "<style scoped>\n",
              "    .dataframe tbody tr th:only-of-type {\n",
              "        vertical-align: middle;\n",
              "    }\n",
              "\n",
              "    .dataframe tbody tr th {\n",
              "        vertical-align: top;\n",
              "    }\n",
              "\n",
              "    .dataframe thead th {\n",
              "        text-align: right;\n",
              "    }\n",
              "</style>\n",
              "<table border=\"1\" class=\"dataframe\">\n",
              "  <thead>\n",
              "    <tr style=\"text-align: right;\">\n",
              "      <th></th>\n",
              "      <th>toxic</th>\n",
              "      <th>severe_toxic</th>\n",
              "      <th>obscene</th>\n",
              "      <th>threat</th>\n",
              "      <th>insult</th>\n",
              "      <th>identity_hate</th>\n",
              "    </tr>\n",
              "  </thead>\n",
              "  <tbody>\n",
              "    <tr>\n",
              "      <th>0</th>\n",
              "      <td>0</td>\n",
              "      <td>0</td>\n",
              "      <td>0</td>\n",
              "      <td>0</td>\n",
              "      <td>0</td>\n",
              "      <td>0</td>\n",
              "    </tr>\n",
              "    <tr>\n",
              "      <th>1</th>\n",
              "      <td>0</td>\n",
              "      <td>0</td>\n",
              "      <td>0</td>\n",
              "      <td>0</td>\n",
              "      <td>0</td>\n",
              "      <td>0</td>\n",
              "    </tr>\n",
              "    <tr>\n",
              "      <th>2</th>\n",
              "      <td>0</td>\n",
              "      <td>0</td>\n",
              "      <td>0</td>\n",
              "      <td>0</td>\n",
              "      <td>0</td>\n",
              "      <td>0</td>\n",
              "    </tr>\n",
              "    <tr>\n",
              "      <th>3</th>\n",
              "      <td>0</td>\n",
              "      <td>0</td>\n",
              "      <td>0</td>\n",
              "      <td>0</td>\n",
              "      <td>0</td>\n",
              "      <td>0</td>\n",
              "    </tr>\n",
              "    <tr>\n",
              "      <th>4</th>\n",
              "      <td>0</td>\n",
              "      <td>0</td>\n",
              "      <td>0</td>\n",
              "      <td>0</td>\n",
              "      <td>0</td>\n",
              "      <td>0</td>\n",
              "    </tr>\n",
              "    <tr>\n",
              "      <th>...</th>\n",
              "      <td>...</td>\n",
              "      <td>...</td>\n",
              "      <td>...</td>\n",
              "      <td>...</td>\n",
              "      <td>...</td>\n",
              "      <td>...</td>\n",
              "    </tr>\n",
              "    <tr>\n",
              "      <th>63973</th>\n",
              "      <td>0</td>\n",
              "      <td>0</td>\n",
              "      <td>0</td>\n",
              "      <td>0</td>\n",
              "      <td>0</td>\n",
              "      <td>0</td>\n",
              "    </tr>\n",
              "    <tr>\n",
              "      <th>63974</th>\n",
              "      <td>0</td>\n",
              "      <td>0</td>\n",
              "      <td>0</td>\n",
              "      <td>0</td>\n",
              "      <td>0</td>\n",
              "      <td>0</td>\n",
              "    </tr>\n",
              "    <tr>\n",
              "      <th>63975</th>\n",
              "      <td>0</td>\n",
              "      <td>0</td>\n",
              "      <td>0</td>\n",
              "      <td>0</td>\n",
              "      <td>0</td>\n",
              "      <td>0</td>\n",
              "    </tr>\n",
              "    <tr>\n",
              "      <th>63976</th>\n",
              "      <td>1</td>\n",
              "      <td>0</td>\n",
              "      <td>1</td>\n",
              "      <td>0</td>\n",
              "      <td>1</td>\n",
              "      <td>0</td>\n",
              "    </tr>\n",
              "    <tr>\n",
              "      <th>63977</th>\n",
              "      <td>0</td>\n",
              "      <td>0</td>\n",
              "      <td>0</td>\n",
              "      <td>0</td>\n",
              "      <td>0</td>\n",
              "      <td>0</td>\n",
              "    </tr>\n",
              "  </tbody>\n",
              "</table>\n",
              "<p>63978 rows × 6 columns</p>\n",
              "</div>"
            ],
            "text/plain": [
              "       toxic  severe_toxic  obscene  threat  insult  identity_hate\n",
              "0          0             0        0       0       0              0\n",
              "1          0             0        0       0       0              0\n",
              "2          0             0        0       0       0              0\n",
              "3          0             0        0       0       0              0\n",
              "4          0             0        0       0       0              0\n",
              "...      ...           ...      ...     ...     ...            ...\n",
              "63973      0             0        0       0       0              0\n",
              "63974      0             0        0       0       0              0\n",
              "63975      0             0        0       0       0              0\n",
              "63976      1             0        1       0       1              0\n",
              "63977      0             0        0       0       0              0\n",
              "\n",
              "[63978 rows x 6 columns]"
            ]
          },
          "metadata": {
            "tags": []
          },
          "execution_count": 64
        }
      ]
    },
    {
      "cell_type": "code",
      "metadata": {
        "id": "9Av4vQXH9CpX"
      },
      "source": [
        "pickle.dump(test_pred, open('./drive/MyDrive/IRLAB/A7/test_pred', 'wb'))"
      ],
      "execution_count": null,
      "outputs": []
    },
    {
      "cell_type": "markdown",
      "metadata": {
        "id": "4jrClqQaM-lV"
      },
      "source": [
        "# **Measuring Performance - TFIDF**"
      ]
    },
    {
      "cell_type": "code",
      "metadata": {
        "colab": {
          "base_uri": "https://localhost:8080/"
        },
        "id": "2xNSMMkLK2GK",
        "outputId": "03f069a0-296b-4ce4-acc5-cb23d615642d"
      },
      "source": [
        "print('class: Toxic')\n",
        "print('Macro: ', precision_recall_fscore_support(new_testset['toxic'], test_pred['toxic'], average=\"macro\"))\n",
        "print('Micro: ', precision_recall_fscore_support(new_testset['toxic'], test_pred['toxic'], average=\"micro\"))"
      ],
      "execution_count": null,
      "outputs": [
        {
          "output_type": "stream",
          "text": [
            "class: Toxic\n",
            "Macro:  (0.7181754697058831, 0.7836181622674803, 0.7445482966656226, None)\n",
            "Micro:  (0.8985119884960455, 0.8985119884960455, 0.8985119884960455, None)\n"
          ],
          "name": "stdout"
        }
      ]
    },
    {
      "cell_type": "code",
      "metadata": {
        "colab": {
          "base_uri": "https://localhost:8080/"
        },
        "id": "LboYjK8gLmXn",
        "outputId": "fc77f935-e86f-41a9-9282-0682d97cb828"
      },
      "source": [
        "print('class: severe_toxic')\n",
        "print('Macro: ', precision_recall_fscore_support(new_testset['severe_toxic'], test_pred['severe_toxic'], average=\"macro\"))\n",
        "print('Micro: ', precision_recall_fscore_support(new_testset['severe_toxic'], test_pred['severe_toxic'], average=\"micro\"))"
      ],
      "execution_count": null,
      "outputs": [
        {
          "output_type": "stream",
          "text": [
            "class: severe_toxic\n",
            "Macro:  (0.7346363419168487, 0.537903470416685, 0.5642770604651985, None)\n",
            "Micro:  (0.9942167620119416, 0.9942167620119416, 0.9942167620119416, None)\n"
          ],
          "name": "stdout"
        }
      ]
    },
    {
      "cell_type": "code",
      "metadata": {
        "colab": {
          "base_uri": "https://localhost:8080/"
        },
        "id": "rgQWK-0FL6Sk",
        "outputId": "747e5550-6ece-487f-8d54-abcad3016671"
      },
      "source": [
        "print('class: obscene')\n",
        "print('Macro: ', precision_recall_fscore_support(new_testset['obscene'], test_pred['obscene'], average=\"macro\"))\n",
        "print('Micro: ', precision_recall_fscore_support(new_testset['obscene'], test_pred['obscene'], average=\"micro\"))"
      ],
      "execution_count": null,
      "outputs": [
        {
          "output_type": "stream",
          "text": [
            "class: obscene\n",
            "Macro:  (0.6832093092622088, 0.7606591566160523, 0.7132338459871861, None)\n",
            "Micro:  (0.9242552127293757, 0.9242552127293757, 0.9242552127293757, None)\n"
          ],
          "name": "stdout"
        }
      ]
    },
    {
      "cell_type": "code",
      "metadata": {
        "colab": {
          "base_uri": "https://localhost:8080/"
        },
        "id": "eydFbskQMSkd",
        "outputId": "9509e1dd-1d3d-46d0-900d-09889cf16651"
      },
      "source": [
        "print('class: threat')\n",
        "print('Macro: ', precision_recall_fscore_support(new_testset['threat'], test_pred['threat'], average=\"macro\"))\n",
        "print('Micro: ', precision_recall_fscore_support(new_testset['threat'], test_pred['threat'], average=\"micro\"))"
      ],
      "execution_count": null,
      "outputs": [
        {
          "output_type": "stream",
          "text": [
            "class: threat\n",
            "Macro:  (0.6758555598209606, 0.5259095297847161, 0.5445932459885511, None)\n",
            "Micro:  (0.9965613179530464, 0.9965613179530464, 0.9965613179530464, None)\n"
          ],
          "name": "stdout"
        }
      ]
    },
    {
      "cell_type": "code",
      "metadata": {
        "colab": {
          "base_uri": "https://localhost:8080/"
        },
        "id": "JRLN_D_nMasR",
        "outputId": "6227a155-df01-42d7-c42b-fa63bc4c4a6b"
      },
      "source": [
        "print('class: insult')\n",
        "print('Macro: ', precision_recall_fscore_support(new_testset['insult'], test_pred['insult'], average=\"macro\"))\n",
        "print('Micro: ', precision_recall_fscore_support(new_testset['insult'], test_pred['insult'], average=\"micro\"))"
      ],
      "execution_count": null,
      "outputs": [
        {
          "output_type": "stream",
          "text": [
            "class: insult\n",
            "Macro:  (0.8149711382733564, 0.7163157303840946, 0.7551402201898303, None)\n",
            "Micro:  (0.9580480790271656, 0.9580480790271656, 0.9580480790271656, None)\n"
          ],
          "name": "stdout"
        }
      ]
    },
    {
      "cell_type": "code",
      "metadata": {
        "colab": {
          "base_uri": "https://localhost:8080/"
        },
        "id": "dIqEj_HrMnaW",
        "outputId": "db75f3a3-d8b2-4dca-e89a-28da4869072e"
      },
      "source": [
        "print('class: identity_hate')\n",
        "print('Macro: ', precision_recall_fscore_support(new_testset['identity_hate'], test_pred['identity_hate'], average=\"macro\"))\n",
        "print('Micro: ', precision_recall_fscore_support(new_testset['identity_hate'], test_pred['identity_hate'], average=\"micro\"))"
      ],
      "execution_count": null,
      "outputs": [
        {
          "output_type": "stream",
          "text": [
            "class: identity_hate\n",
            "Macro:  (0.9032234037555009, 0.5714474412832282, 0.6193740062545746, None)\n",
            "Micro:  (0.9901059739285379, 0.9901059739285379, 0.9901059739285379, None)\n"
          ],
          "name": "stdout"
        }
      ]
    },
    {
      "cell_type": "markdown",
      "metadata": {
        "id": "5o-2HZRo_M96"
      },
      "source": [
        "Training Word2Vec Model"
      ]
    },
    {
      "cell_type": "code",
      "metadata": {
        "id": "JLkRA97NMyFV"
      },
      "source": [
        "word2vec_model = Word2Vec(sentences=train_comments, size=40, window=5, min_count=1, workers=4, sg=1)"
      ],
      "execution_count": null,
      "outputs": []
    },
    {
      "cell_type": "code",
      "metadata": {
        "id": "kyQ7sHsLmJOA"
      },
      "source": [
        "# generating embedding for given list of sentences \n",
        "def gen_embedding(lst):\n",
        "  result = []\n",
        "  for sentence in lst:\n",
        "    vector = np.zeros((40,))\n",
        "    words = sentence.split()\n",
        "    count = 0\n",
        "    for word in words:\n",
        "      try:\n",
        "        vector += word2vec_model.wv.get_vector(word)\n",
        "        count += 1\n",
        "      except:\n",
        "        pass\n",
        "    \n",
        "    if count > 0:\n",
        "      result.append(vector/count)\n",
        "    else:\n",
        "      result.append(vector)\n",
        "  return result"
      ],
      "execution_count": null,
      "outputs": []
    },
    {
      "cell_type": "code",
      "metadata": {
        "id": "_pf_5sIizFV5"
      },
      "source": [
        "train_embeddings = gen_embedding(train_comments)"
      ],
      "execution_count": null,
      "outputs": []
    },
    {
      "cell_type": "code",
      "metadata": {
        "colab": {
          "base_uri": "https://localhost:8080/",
          "height": 555
        },
        "id": "7BRBHcOJxrZu",
        "outputId": "b26def09-8452-4a90-b4b9-feff966c7df1"
      },
      "source": [
        "new_testset = pickle.load(open('./drive/MyDrive/IRLAB/A7/new_testset', 'rb'))\n",
        "new_testset"
      ],
      "execution_count": null,
      "outputs": [
        {
          "output_type": "execute_result",
          "data": {
            "text/html": [
              "<div>\n",
              "<style scoped>\n",
              "    .dataframe tbody tr th:only-of-type {\n",
              "        vertical-align: middle;\n",
              "    }\n",
              "\n",
              "    .dataframe tbody tr th {\n",
              "        vertical-align: top;\n",
              "    }\n",
              "\n",
              "    .dataframe thead th {\n",
              "        text-align: right;\n",
              "    }\n",
              "</style>\n",
              "<table border=\"1\" class=\"dataframe\">\n",
              "  <thead>\n",
              "    <tr style=\"text-align: right;\">\n",
              "      <th></th>\n",
              "      <th>id</th>\n",
              "      <th>comment_text</th>\n",
              "      <th>toxic</th>\n",
              "      <th>severe_toxic</th>\n",
              "      <th>obscene</th>\n",
              "      <th>threat</th>\n",
              "      <th>insult</th>\n",
              "      <th>identity_hate</th>\n",
              "    </tr>\n",
              "  </thead>\n",
              "  <tbody>\n",
              "    <tr>\n",
              "      <th>0</th>\n",
              "      <td>0001ea8717f6de06</td>\n",
              "      <td>Thank you for understanding. I think very high...</td>\n",
              "      <td>0</td>\n",
              "      <td>0</td>\n",
              "      <td>0</td>\n",
              "      <td>0</td>\n",
              "      <td>0</td>\n",
              "      <td>0</td>\n",
              "    </tr>\n",
              "    <tr>\n",
              "      <th>1</th>\n",
              "      <td>000247e83dcc1211</td>\n",
              "      <td>:Dear god this site is horrible.</td>\n",
              "      <td>0</td>\n",
              "      <td>0</td>\n",
              "      <td>0</td>\n",
              "      <td>0</td>\n",
              "      <td>0</td>\n",
              "      <td>0</td>\n",
              "    </tr>\n",
              "    <tr>\n",
              "      <th>2</th>\n",
              "      <td>0002f87b16116a7f</td>\n",
              "      <td>\"::: Somebody will invariably try to add Relig...</td>\n",
              "      <td>0</td>\n",
              "      <td>0</td>\n",
              "      <td>0</td>\n",
              "      <td>0</td>\n",
              "      <td>0</td>\n",
              "      <td>0</td>\n",
              "    </tr>\n",
              "    <tr>\n",
              "      <th>3</th>\n",
              "      <td>0003e1cccfd5a40a</td>\n",
              "      <td>\" \\n\\n It says it right there that it IS a typ...</td>\n",
              "      <td>0</td>\n",
              "      <td>0</td>\n",
              "      <td>0</td>\n",
              "      <td>0</td>\n",
              "      <td>0</td>\n",
              "      <td>0</td>\n",
              "    </tr>\n",
              "    <tr>\n",
              "      <th>4</th>\n",
              "      <td>00059ace3e3e9a53</td>\n",
              "      <td>\" \\n\\n == Before adding a new product to the l...</td>\n",
              "      <td>0</td>\n",
              "      <td>0</td>\n",
              "      <td>0</td>\n",
              "      <td>0</td>\n",
              "      <td>0</td>\n",
              "      <td>0</td>\n",
              "    </tr>\n",
              "    <tr>\n",
              "      <th>...</th>\n",
              "      <td>...</td>\n",
              "      <td>...</td>\n",
              "      <td>...</td>\n",
              "      <td>...</td>\n",
              "      <td>...</td>\n",
              "      <td>...</td>\n",
              "      <td>...</td>\n",
              "      <td>...</td>\n",
              "    </tr>\n",
              "    <tr>\n",
              "      <th>63973</th>\n",
              "      <td>fff8f64043129fa2</td>\n",
              "      <td>:Jerome, I see you never got around to this…! ...</td>\n",
              "      <td>0</td>\n",
              "      <td>0</td>\n",
              "      <td>0</td>\n",
              "      <td>0</td>\n",
              "      <td>0</td>\n",
              "      <td>0</td>\n",
              "    </tr>\n",
              "    <tr>\n",
              "      <th>63974</th>\n",
              "      <td>fff9d70fe0722906</td>\n",
              "      <td>==Lucky bastard== \\n http://wikimediafoundatio...</td>\n",
              "      <td>0</td>\n",
              "      <td>0</td>\n",
              "      <td>0</td>\n",
              "      <td>0</td>\n",
              "      <td>0</td>\n",
              "      <td>0</td>\n",
              "    </tr>\n",
              "    <tr>\n",
              "      <th>63975</th>\n",
              "      <td>fffa8a11c4378854</td>\n",
              "      <td>==shame on you all!!!== \\n\\n You want to speak...</td>\n",
              "      <td>0</td>\n",
              "      <td>0</td>\n",
              "      <td>0</td>\n",
              "      <td>0</td>\n",
              "      <td>0</td>\n",
              "      <td>0</td>\n",
              "    </tr>\n",
              "    <tr>\n",
              "      <th>63976</th>\n",
              "      <td>fffac2a094c8e0e2</td>\n",
              "      <td>MEL GIBSON IS A NAZI BITCH WHO MAKES SHITTY MO...</td>\n",
              "      <td>1</td>\n",
              "      <td>0</td>\n",
              "      <td>1</td>\n",
              "      <td>0</td>\n",
              "      <td>1</td>\n",
              "      <td>0</td>\n",
              "    </tr>\n",
              "    <tr>\n",
              "      <th>63977</th>\n",
              "      <td>fffb5451268fb5ba</td>\n",
              "      <td>\" \\n\\n == Unicorn lair discovery == \\n\\n Suppo...</td>\n",
              "      <td>0</td>\n",
              "      <td>0</td>\n",
              "      <td>0</td>\n",
              "      <td>0</td>\n",
              "      <td>0</td>\n",
              "      <td>0</td>\n",
              "    </tr>\n",
              "  </tbody>\n",
              "</table>\n",
              "<p>63978 rows × 8 columns</p>\n",
              "</div>"
            ],
            "text/plain": [
              "                     id  ... identity_hate\n",
              "0      0001ea8717f6de06  ...             0\n",
              "1      000247e83dcc1211  ...             0\n",
              "2      0002f87b16116a7f  ...             0\n",
              "3      0003e1cccfd5a40a  ...             0\n",
              "4      00059ace3e3e9a53  ...             0\n",
              "...                 ...  ...           ...\n",
              "63973  fff8f64043129fa2  ...             0\n",
              "63974  fff9d70fe0722906  ...             0\n",
              "63975  fffa8a11c4378854  ...             0\n",
              "63976  fffac2a094c8e0e2  ...             0\n",
              "63977  fffb5451268fb5ba  ...             0\n",
              "\n",
              "[63978 rows x 8 columns]"
            ]
          },
          "metadata": {
            "tags": []
          },
          "execution_count": 36
        }
      ]
    },
    {
      "cell_type": "code",
      "metadata": {
        "id": "qzQ3HqFZ1Vkw"
      },
      "source": [
        "test_embeddings = gen_embedding(new_testset['comment_text'])"
      ],
      "execution_count": null,
      "outputs": []
    },
    {
      "cell_type": "code",
      "metadata": {
        "id": "b-Ts-R98jUPL"
      },
      "source": [
        "toxic_wv_clf = svm.LinearSVC()\n",
        "severe_wv_toxic_clf = svm.LinearSVC()\n",
        "obscene_wv_clf = svm.LinearSVC()\n",
        "threat_wv_clf = svm.LinearSVC()\n",
        "insult_wv_clf = svm.LinearSVC()\n",
        "identity_wv_hate_clf = svm.LinearSVC()"
      ],
      "execution_count": null,
      "outputs": []
    },
    {
      "cell_type": "code",
      "metadata": {
        "colab": {
          "base_uri": "https://localhost:8080/"
        },
        "id": "JVPp0yI91hSm",
        "outputId": "2e6d3d72-a7c9-4399-852e-38afb810a742"
      },
      "source": [
        "toxic_wv_clf.fit(train_embeddings, train['toxic'])\n",
        "severe_wv_toxic_clf.fit(train_embeddings, train['severe_toxic'])\n",
        "obscene_wv_clf.fit(train_embeddings, train['obscene'])\n",
        "threat_wv_clf.fit(train_embeddings, train['threat'])\n",
        "insult_wv_clf.fit(train_embeddings, train['insult'])\n",
        "identity_wv_hate_clf.fit(train_embeddings, train['identity_hate'])"
      ],
      "execution_count": null,
      "outputs": [
        {
          "output_type": "execute_result",
          "data": {
            "text/plain": [
              "LinearSVC(C=1.0, class_weight=None, dual=True, fit_intercept=True,\n",
              "          intercept_scaling=1, loss='squared_hinge', max_iter=1000,\n",
              "          multi_class='ovr', penalty='l2', random_state=None, tol=0.0001,\n",
              "          verbose=0)"
            ]
          },
          "metadata": {
            "tags": []
          },
          "execution_count": 38
        }
      ]
    },
    {
      "cell_type": "code",
      "metadata": {
        "id": "GBoPJA_g2P5r"
      },
      "source": [
        "toxic_wv_clf_pred = toxic_wv_clf.predict(test_embeddings)\n",
        "severe_wv_toxic_clf_pred = severe_wv_toxic_clf.predict(test_embeddings)\n",
        "obscene_wv_clf_pred = obscene_wv_clf.predict(test_embeddings)\n",
        "threat_wv_clf_pred = threat_wv_clf.predict(test_embeddings)\n",
        "insult_wv_clf_pred = insult_wv_clf.predict(test_embeddings)\n",
        "identity_wv_hate_clf_pred = insult_wv_clf.predict(test_embeddings)"
      ],
      "execution_count": null,
      "outputs": []
    },
    {
      "cell_type": "code",
      "metadata": {
        "id": "0OrVu2qx5R_R"
      },
      "source": [
        "test_pred_wv = pd.DataFrame(dict({\n",
        "        'toxic': toxic_wv_clf_pred, \n",
        "        'severe_toxic': severe_wv_toxic_clf_pred, \n",
        "        'obscene': obscene_wv_clf_pred, \n",
        "        'threat': threat_wv_clf_pred, \n",
        "        'insult':insult_wv_clf_pred, \n",
        "        'identity_hate':identity_wv_hate_clf_pred\n",
        "}))"
      ],
      "execution_count": null,
      "outputs": []
    },
    {
      "cell_type": "code",
      "metadata": {
        "colab": {
          "base_uri": "https://localhost:8080/",
          "height": 419
        },
        "id": "Gw6UcT5x5kv3",
        "outputId": "2b535fd3-226d-4521-c93f-f35e6e3c4714"
      },
      "source": [
        "test_pred_wv"
      ],
      "execution_count": null,
      "outputs": [
        {
          "output_type": "execute_result",
          "data": {
            "text/html": [
              "<div>\n",
              "<style scoped>\n",
              "    .dataframe tbody tr th:only-of-type {\n",
              "        vertical-align: middle;\n",
              "    }\n",
              "\n",
              "    .dataframe tbody tr th {\n",
              "        vertical-align: top;\n",
              "    }\n",
              "\n",
              "    .dataframe thead th {\n",
              "        text-align: right;\n",
              "    }\n",
              "</style>\n",
              "<table border=\"1\" class=\"dataframe\">\n",
              "  <thead>\n",
              "    <tr style=\"text-align: right;\">\n",
              "      <th></th>\n",
              "      <th>toxic</th>\n",
              "      <th>severe_toxic</th>\n",
              "      <th>obscene</th>\n",
              "      <th>threat</th>\n",
              "      <th>insult</th>\n",
              "      <th>identity_hate</th>\n",
              "    </tr>\n",
              "  </thead>\n",
              "  <tbody>\n",
              "    <tr>\n",
              "      <th>0</th>\n",
              "      <td>0</td>\n",
              "      <td>0</td>\n",
              "      <td>0</td>\n",
              "      <td>0</td>\n",
              "      <td>0</td>\n",
              "      <td>0</td>\n",
              "    </tr>\n",
              "    <tr>\n",
              "      <th>1</th>\n",
              "      <td>0</td>\n",
              "      <td>0</td>\n",
              "      <td>0</td>\n",
              "      <td>0</td>\n",
              "      <td>0</td>\n",
              "      <td>0</td>\n",
              "    </tr>\n",
              "    <tr>\n",
              "      <th>2</th>\n",
              "      <td>0</td>\n",
              "      <td>0</td>\n",
              "      <td>0</td>\n",
              "      <td>0</td>\n",
              "      <td>0</td>\n",
              "      <td>0</td>\n",
              "    </tr>\n",
              "    <tr>\n",
              "      <th>3</th>\n",
              "      <td>0</td>\n",
              "      <td>0</td>\n",
              "      <td>0</td>\n",
              "      <td>0</td>\n",
              "      <td>0</td>\n",
              "      <td>0</td>\n",
              "    </tr>\n",
              "    <tr>\n",
              "      <th>4</th>\n",
              "      <td>0</td>\n",
              "      <td>0</td>\n",
              "      <td>0</td>\n",
              "      <td>0</td>\n",
              "      <td>0</td>\n",
              "      <td>0</td>\n",
              "    </tr>\n",
              "    <tr>\n",
              "      <th>...</th>\n",
              "      <td>...</td>\n",
              "      <td>...</td>\n",
              "      <td>...</td>\n",
              "      <td>...</td>\n",
              "      <td>...</td>\n",
              "      <td>...</td>\n",
              "    </tr>\n",
              "    <tr>\n",
              "      <th>63973</th>\n",
              "      <td>0</td>\n",
              "      <td>0</td>\n",
              "      <td>0</td>\n",
              "      <td>0</td>\n",
              "      <td>0</td>\n",
              "      <td>0</td>\n",
              "    </tr>\n",
              "    <tr>\n",
              "      <th>63974</th>\n",
              "      <td>0</td>\n",
              "      <td>0</td>\n",
              "      <td>0</td>\n",
              "      <td>0</td>\n",
              "      <td>0</td>\n",
              "      <td>0</td>\n",
              "    </tr>\n",
              "    <tr>\n",
              "      <th>63975</th>\n",
              "      <td>0</td>\n",
              "      <td>0</td>\n",
              "      <td>0</td>\n",
              "      <td>0</td>\n",
              "      <td>0</td>\n",
              "      <td>0</td>\n",
              "    </tr>\n",
              "    <tr>\n",
              "      <th>63976</th>\n",
              "      <td>0</td>\n",
              "      <td>0</td>\n",
              "      <td>0</td>\n",
              "      <td>0</td>\n",
              "      <td>0</td>\n",
              "      <td>0</td>\n",
              "    </tr>\n",
              "    <tr>\n",
              "      <th>63977</th>\n",
              "      <td>0</td>\n",
              "      <td>0</td>\n",
              "      <td>0</td>\n",
              "      <td>0</td>\n",
              "      <td>0</td>\n",
              "      <td>0</td>\n",
              "    </tr>\n",
              "  </tbody>\n",
              "</table>\n",
              "<p>63978 rows × 6 columns</p>\n",
              "</div>"
            ],
            "text/plain": [
              "       toxic  severe_toxic  obscene  threat  insult  identity_hate\n",
              "0          0             0        0       0       0              0\n",
              "1          0             0        0       0       0              0\n",
              "2          0             0        0       0       0              0\n",
              "3          0             0        0       0       0              0\n",
              "4          0             0        0       0       0              0\n",
              "...      ...           ...      ...     ...     ...            ...\n",
              "63973      0             0        0       0       0              0\n",
              "63974      0             0        0       0       0              0\n",
              "63975      0             0        0       0       0              0\n",
              "63976      0             0        0       0       0              0\n",
              "63977      0             0        0       0       0              0\n",
              "\n",
              "[63978 rows x 6 columns]"
            ]
          },
          "metadata": {
            "tags": []
          },
          "execution_count": 41
        }
      ]
    },
    {
      "cell_type": "markdown",
      "metadata": {
        "id": "BcbQXSAd_gxy"
      },
      "source": [
        "# **Measuring Performance - word2vec**"
      ]
    },
    {
      "cell_type": "code",
      "metadata": {
        "colab": {
          "base_uri": "https://localhost:8080/"
        },
        "id": "F02tggQ05mvR",
        "outputId": "0e6b1e86-6286-4982-eca8-dc706440a699"
      },
      "source": [
        "print('class: Toxic')\n",
        "print('Macro: ', precision_recall_fscore_support(new_testset['toxic'], test_pred_wv['toxic'], average=\"macro\", warn_for = tuple()))\n",
        "print('Micro: ', precision_recall_fscore_support(new_testset['toxic'], test_pred_wv['toxic'], average=\"micro\", warn_for = tuple()))"
      ],
      "execution_count": null,
      "outputs": [
        {
          "output_type": "stream",
          "text": [
            "class: Toxic\n",
            "Macro:  (0.45240551439557347, 0.5, 0.47501353946137564, None)\n",
            "Micro:  (0.9048110287911469, 0.9048110287911469, 0.9048110287911469, None)\n"
          ],
          "name": "stdout"
        }
      ]
    },
    {
      "cell_type": "code",
      "metadata": {
        "colab": {
          "base_uri": "https://localhost:8080/"
        },
        "id": "rWDDn4R85rj8",
        "outputId": "0d0b193c-01da-4398-979e-6c8a10b6fee6"
      },
      "source": [
        "print('class: severe_toxic')\n",
        "print('Macro: ', precision_recall_fscore_support(new_testset['severe_toxic'], test_pred_wv['severe_toxic'], average=\"macro\", warn_for = tuple()))\n",
        "print('Micro: ', precision_recall_fscore_support(new_testset['severe_toxic'], test_pred_wv['severe_toxic'], average=\"micro\", warn_for = tuple()))"
      ],
      "execution_count": null,
      "outputs": [
        {
          "output_type": "stream",
          "text": [
            "class: severe_toxic\n",
            "Macro:  (0.49713182656538185, 0.5, 0.49856178824193303, None)\n",
            "Micro:  (0.9942636531307637, 0.9942636531307637, 0.9942636531307637, None)\n"
          ],
          "name": "stdout"
        }
      ]
    },
    {
      "cell_type": "code",
      "metadata": {
        "colab": {
          "base_uri": "https://localhost:8080/"
        },
        "id": "Tm6q6-Fi6IjE",
        "outputId": "ee4859cb-fe92-49d5-90c8-13c25ba44d49"
      },
      "source": [
        "print('class: obscene')\n",
        "print('Macro: ', precision_recall_fscore_support(new_testset['obscene'], test_pred_wv['obscene'], average=\"macro\", warn_for = tuple()))\n",
        "print('Micro: ', precision_recall_fscore_support(new_testset['obscene'], test_pred_wv['obscene'], average=\"micro\", warn_for = tuple()))"
      ],
      "execution_count": null,
      "outputs": [
        {
          "output_type": "stream",
          "text": [
            "class: obscene\n",
            "Macro:  (0.47115414673794115, 0.5, 0.4851486742043214, None)\n",
            "Micro:  (0.9423082934758823, 0.9423082934758823, 0.9423082934758823, None)\n"
          ],
          "name": "stdout"
        }
      ]
    },
    {
      "cell_type": "code",
      "metadata": {
        "colab": {
          "base_uri": "https://localhost:8080/"
        },
        "id": "k9aBblSd6LwH",
        "outputId": "a740fb1f-dd39-401c-ca28-5c3db26f2afc"
      },
      "source": [
        "print('class: threat')\n",
        "print('Macro: ', precision_recall_fscore_support(new_testset['threat'], test_pred_wv['threat'], average=\"macro\", warn_for = tuple()))\n",
        "print('Micro: ', precision_recall_fscore_support(new_testset['threat'], test_pred_wv['threat'], average=\"micro\", warn_for = tuple()))"
      ],
      "execution_count": null,
      "outputs": [
        {
          "output_type": "stream",
          "text": [
            "class: threat\n",
            "Macro:  (0.4983509956547563, 0.5, 0.4991741359740108, None)\n",
            "Micro:  (0.9967019913095126, 0.9967019913095126, 0.9967019913095126, None)\n"
          ],
          "name": "stdout"
        }
      ]
    },
    {
      "cell_type": "code",
      "metadata": {
        "colab": {
          "base_uri": "https://localhost:8080/"
        },
        "id": "fYMqUr2D6PrB",
        "outputId": "8e601a98-fe88-4c28-e7e3-6de21e62c437"
      },
      "source": [
        "print('class: insult')\n",
        "print('Macro: ', precision_recall_fscore_support(new_testset['insult'], test_pred_wv['insult'], average=\"macro\",warn_for = tuple()))\n",
        "print('Micro: ', precision_recall_fscore_support(new_testset['insult'], test_pred_wv['insult'], average=\"micro\", warn_for = tuple()))"
      ],
      "execution_count": null,
      "outputs": [
        {
          "output_type": "stream",
          "text": [
            "class: insult\n",
            "Macro:  (0.47321735596611336, 0.5, 0.48624015289611255, None)\n",
            "Micro:  (0.9464347119322267, 0.9464347119322267, 0.9464347119322267, None)\n"
          ],
          "name": "stdout"
        }
      ]
    },
    {
      "cell_type": "code",
      "metadata": {
        "colab": {
          "base_uri": "https://localhost:8080/"
        },
        "id": "1c7EficK6SFE",
        "outputId": "63ea2b9b-56a3-4f54-c766-6fc81dff3df4"
      },
      "source": [
        "print('class: identity_hate')\n",
        "print('Macro: ', precision_recall_fscore_support(new_testset['identity_hate'], test_pred_wv['identity_hate'], average=\"macro\",warn_for = tuple()))\n",
        "print('Micro: ', precision_recall_fscore_support(new_testset['identity_hate'], test_pred_wv['identity_hate'], average=\"micro\", warn_for = tuple()))"
      ],
      "execution_count": null,
      "outputs": [
        {
          "output_type": "stream",
          "text": [
            "class: identity_hate\n",
            "Macro:  (0.4944355872331114, 0.5, 0.49720222564521704, None)\n",
            "Micro:  (0.9888711744662227, 0.9888711744662227, 0.9888711744662227, None)\n"
          ],
          "name": "stdout"
        }
      ]
    }
  ]
}